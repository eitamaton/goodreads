{
 "cells": [
  {
   "cell_type": "markdown",
   "metadata": {},
   "source": [
    "# Goodreads Non-negative Matrix Factorization Models"
   ]
  },
  {
   "cell_type": "markdown",
   "metadata": {},
   "source": [
    "The aim of this notebook is to collect the user-book ratings into a matrix $V$ with rows indexed by the ordered set of users $U$, ordered by `user_id`, and columns indexed by the ordered set of books $B$, ordered by `book_id`. As the set of ratings $R$ are integers 1 – 5, we consider no rating to be a 0 in this representation. Given the matrix $V$, a baseline model we consider is the mean book rating, that is, the mean along columns, as a recommendation value; these recommendations are identical across users."
   ]
  },
  {
   "cell_type": "markdown",
   "metadata": {},
   "source": [
    "Denote the number of users and books by $n_u = |U|$ and $n_b = |B|$ respectively. The models we construct are matrix factorizations of $V \\in \\mathsf{M}_{n_u \\times n_b} (R)$, where $R$ is the set of rating values. A choice of the number of latent factors, $k$, as well as hyperparameter choices, determine a *matrix factorization model*, which is a factorization of $V$ into a matrix $W \\in \\mathsf{M}_{n_u \\times k} (\\mathbb{R}_{\\geq 0})$ and a matrix $H \\in \\mathsf{M}_{k \\times n_b} (\\mathbb{R}_{\\geq 0})$ such that $V \\approx WH$."
   ]
  },
  {
   "cell_type": "markdown",
   "metadata": {},
   "source": [
    "To be more explicit, we represent $V \\in \\mathsf{M}_{n_u \\times n_b} (\\mathbb{R}_{\\geq 0})$ and use the [non-negative matrix factorization](https://scikit-learn.org/stable/modules/decomposition.html#non-negative-matrix-factorization-nmf-or-nnmf) implementation of scikit-learn, [sklearn.decomposition.NMF](https://scikit-learn.org/stable/modules/generated/sklearn.decomposition.NMF.html), to return two matrices $W$ and $H$ minimizing the loss function\n",
    "$$\n",
    "\\mathcal{L} = \\frac{1}{2} \\| V - WH \\|_F^2,\n",
    "$$\n",
    "where $\\| \\bullet \\|_F$ is the Frobenius norm\n",
    "$$\n",
    "\\| X \\|_F = \\sqrt{ \\sum_{i, j} X_{ij}^2},\n",
    "$$\n",
    "that is, the $L2$-norm. [Lee and Seung 2001](http://papers.nips.cc/paper/1861-algorithms-for-non-negative-matrix-factorization.pdf) describes the algorithms used by scikit-learn for matrix factorization.\n",
    "\n",
    "In minimizing $\\mathcal{L}$, we are minimizing the root-mean-square error (RMSE) between $V$ and $WH$. In analogy to [ElasticNet](https://scikit-learn.org/stable/modules/linear_model.html#elastic-net), we also explore $L1$- and $L2$-regularization in [hyperparameters](), in which we minimize the loss function\n",
    "$$\n",
    "\\mathcal{L}_{\\text{reg}} = \\frac{1}{2} \\| V - WH \\|_F^2 + \\lambda_1 (\\|W\\|_1 + \\|H\\|_1) + \\lambda_2 \\cdot \\frac{1}{2} (\\|W\\|_F^2 + \\|H\\|_F^2),\n",
    "$$\n",
    "where $\\| \\bullet \\|_1$ is the $L1$-norm\n",
    "$$\n",
    "\\| X \\|_1 = \\sum_{i, j} |X_{ij}|\n",
    "$$\n",
    "and $\\lambda_1, \\lambda_2 \\in \\mathbb{R}_{\\geq 0}$ are hyperparameters."
   ]
  },
  {
   "cell_type": "code",
   "execution_count": null,
   "metadata": {},
   "outputs": [],
   "source": [
    "%matplotlib inline\n",
    "\n",
    "import pandas as pd\n",
    "import numpy as np\n",
    "\n",
    "raw_data_path = './data/raw/goodbooks-10k/'\n",
    "\n",
    "model_output_path = './data/models/'\n",
    "\n",
    "image_output_path = './image/goodreads-models/'\n",
    "\n",
    "ratings_df = pd.read_csv(raw_data_path + 'ratings.csv',\n",
    "                         dtype={\n",
    "                             'rating': np.uint8,\n",
    "                             'user_id': np.uint16,\n",
    "                             'book_id': np.uint16\n",
    "                         })"
   ]
  },
  {
   "cell_type": "markdown",
   "metadata": {},
   "source": [
    "## User-Book Ratings Matrix\n",
    "\n",
    "First we construct the sparse matrix, $V$, from `ratings.csv`."
   ]
  },
  {
   "cell_type": "code",
   "execution_count": null,
   "metadata": {},
   "outputs": [],
   "source": [
    "from scipy.sparse import csr_matrix\n",
    "from scipy.sparse import linalg\n",
    "\n",
    "import matplotlib.pyplot as plt\n",
    "\n",
    "# Create ratings matrix\n",
    "ratings_matrix = csr_matrix((ratings_df.rating.values,((ratings_df.user_id.values-1), (ratings_df.book_id.values-1))), dtype=np.uint8)\n",
    "\n",
    "# Store ratings values; 0 represents no rating\n",
    "values = [0, 1, 2, 3, 4, 5]"
   ]
  },
  {
   "cell_type": "code",
   "execution_count": null,
   "metadata": {},
   "outputs": [],
   "source": [
    "shape = ratings_matrix.get_shape()\n",
    "print('The dimensions of the user-book ratings matrix are: ' + str(shape))"
   ]
  },
  {
   "cell_type": "code",
   "execution_count": null,
   "metadata": {},
   "outputs": [],
   "source": [
    "scores = {}\n",
    "\n",
    "def compute_scores(matrix, sparse=True, density=True):\n",
    "    \"\"\"Compute density and RMSE for storage in dict (of dicts)\"\"\"\n",
    "\n",
    "    if density == True:\n",
    "        density = matrix.count_nonzero() / (shape[0] * shape[1])\n",
    "        print('The density of the matrix is: %.4f' % density)\n",
    "\n",
    "    if sparse == True:\n",
    "        rmse = linalg.norm(ratings_matrix - matrix)\n",
    "    else:\n",
    "        rmse = np.linalg.norm(ratings_matrix - matrix)\n",
    "    print('The RMSE between the matrix and the user-book ratings matrix is: %.2f' % rmse)\n",
    "\n",
    "    return {'rmse': rmse, 'density': density}"
   ]
  },
  {
   "cell_type": "code",
   "execution_count": null,
   "metadata": {},
   "outputs": [],
   "source": [
    "# Norm || 2 * R - R || = ||R||\n",
    "scores['ratings'] = compute_scores(2 * ratings_matrix)"
   ]
  },
  {
   "cell_type": "markdown",
   "metadata": {},
   "source": [
    "This is in fact the norm of `ratings_matrix`."
   ]
  },
  {
   "cell_type": "code",
   "execution_count": null,
   "metadata": {},
   "outputs": [],
   "source": [
    "def make_matrix_plot(ax, matrix, sparse=True, cmap='magma', colorbar=True,\n",
    "                     row_size=400, col_size=400, row_shift=0, col_shift=0, shrink=0.82,\n",
    "                     title=None, xlabel='book_id', ylabel='user_id',\n",
    "                     show_xticks=True, show_yticks=True):\n",
    "    \"\"\"Use matplotlib to make square plots of matrices.\"\"\"\n",
    "    \n",
    "    # Get array and plot. matplotlib extend may be better\n",
    "    if sparse == True:\n",
    "        im = ax.imshow(matrix.toarray()[row_shift:row_shift+row_size,\n",
    "                                        col_shift:col_shift+col_size], \n",
    "                       cmap=cmap)\n",
    "    else:\n",
    "        im = ax.imshow(matrix[row_shift:row_shift+row_size,\n",
    "                              col_shift:col_shift+col_size], \n",
    "                       cmap=cmap)\n",
    "    \n",
    "    # Create colorbar\n",
    "    if colorbar == True:\n",
    "        cbar = ax.figure.colorbar(im, ax=ax, shrink=shrink)    \n",
    "    \n",
    "    ax.set_title(title)\n",
    "    ax.set_xlabel(xlabel)\n",
    "    \n",
    "    # Shift labels to match\n",
    "    xticks = ax.get_xticks()\n",
    "    xlabels = list(np.array(xticks) + col_shift)\n",
    "    ax.set_xticklabels(xlabels)\n",
    "\n",
    "    # Remove ticks\n",
    "    # Not working :-?\n",
    "    if show_xticks == False:\n",
    "        ax.set_xticks([])\n",
    "\n",
    "    yticks = ax.get_yticks()\n",
    "    ylabels = list(np.array(yticks) + row_shift)\n",
    "    ax.set_yticklabels(ylabels)\n",
    "    \n",
    "    # Remove ticks\n",
    "    # Not working :-?\n",
    "    if show_xticks == False:\n",
    "        ax.set_yticks([])    \n",
    "\n",
    "    return ax"
   ]
  },
  {
   "cell_type": "code",
   "execution_count": null,
   "metadata": {},
   "outputs": [],
   "source": [
    "fig, ax = plt.subplots(figsize=(8,8))\n",
    "make_matrix_plot(ax, ratings_matrix,\n",
    "                 title='Ratings Submatrix (Upper Left)')\n",
    "plt.savefig(image_output_path + 'ratings-submatrix-upper-left.png')"
   ]
  },
  {
   "cell_type": "markdown",
   "metadata": {},
   "source": [
    "The `book_id`s are sorted by ratings count in `books.csv` so this patch is much more dense than a patch of the matrix further right. Below is a plot of the first 500 `user_id`s and `book_id`s 5001 – 5500."
   ]
  },
  {
   "cell_type": "code",
   "execution_count": null,
   "metadata": {},
   "outputs": [],
   "source": [
    "fig, ax = plt.subplots(figsize=(8,8))\n",
    "make_matrix_plot(ax, ratings_matrix, col_shift=5000, \n",
    "                 title='Ratings Submatrix (Upper Center)')\n",
    "plt.savefig(image_output_path + 'ratings-submatrix-upper-center.png')"
   ]
  },
  {
   "cell_type": "markdown",
   "metadata": {},
   "source": [
    "## Random Recommendations\n",
    "\n",
    "Let's build a couple terrible models which merely make random recommendations so we can get an idea of what sub-baseline performance means."
   ]
  },
  {
   "cell_type": "markdown",
   "metadata": {},
   "source": [
    "### Uniformly Random Recommendations\n",
    "Here we make uniformly random recommendations on a uniformly random subset of user-book entries of specified proportion (`density`)."
   ]
  },
  {
   "cell_type": "code",
   "execution_count": null,
   "metadata": {},
   "outputs": [],
   "source": [
    "# Choose density matching that of ratings_matrix\n",
    "density = scores['ratings']['density']"
   ]
  },
  {
   "cell_type": "code",
   "execution_count": null,
   "metadata": {},
   "outputs": [],
   "source": [
    "# Define distribution\n",
    "uniform_density = 0.2 * density\n",
    "uniform_weights = [1 - density] + 5 * [uniform_density]\n",
    "\n",
    "# Create uniform matrix\n",
    "uniform_matrix = csr_matrix(np.random.choice(values,\n",
    "                                             size=shape,\n",
    "                                             p=uniform_weights),\n",
    "                            dtype=np.uint8)"
   ]
  },
  {
   "cell_type": "code",
   "execution_count": null,
   "metadata": {},
   "outputs": [],
   "source": [
    "scores['uniform_1'] = compute_scores(uniform_matrix)"
   ]
  },
  {
   "cell_type": "code",
   "execution_count": null,
   "metadata": {},
   "outputs": [],
   "source": [
    "fig, ax = plt.subplots(figsize=(8, 8))\n",
    "make_matrix_plot(ax, uniform_matrix, title='Uniform (Density 0.01)')\n",
    "plt.savefig(image_output_path + 'uniform-submatrix-01.png')"
   ]
  },
  {
   "cell_type": "markdown",
   "metadata": {},
   "source": [
    "In fact a density this low is undesirable since we expect that we can make as many recommendations to a given user as the mean books read per user. We would likely want to be able to recommend more books than the mean user has read. Since this model does not approximate `ratings_matrix`, and no rating is encoded as 0, increasing density to something more realistic only increases error."
   ]
  },
  {
   "cell_type": "code",
   "execution_count": null,
   "metadata": {},
   "outputs": [],
   "source": [
    "# Choose density ten times that of ratings_matrix\n",
    "density = 10 * scores['ratings']['density']"
   ]
  },
  {
   "cell_type": "code",
   "execution_count": null,
   "metadata": {},
   "outputs": [],
   "source": [
    "# Define distribution\n",
    "uniform_density = 0.2 * density\n",
    "uniform_weights = [1 - density] + 5 * [uniform_density]\n",
    "\n",
    "# Create uniform matrix\n",
    "uniform_matrix = csr_matrix(np.random.choice(values,\n",
    "                                             size=shape,\n",
    "                                             p=uniform_weights),\n",
    "                            dtype=np.uint8)"
   ]
  },
  {
   "cell_type": "code",
   "execution_count": null,
   "metadata": {},
   "outputs": [],
   "source": [
    "scores['uniform_10'] = compute_scores(uniform_matrix)"
   ]
  },
  {
   "cell_type": "code",
   "execution_count": null,
   "metadata": {},
   "outputs": [],
   "source": [
    "fig, ax = plt.subplots(figsize=(8, 8))\n",
    "make_matrix_plot(ax, uniform_matrix, title='Uniform (Density 0.11)')\n",
    "plt.savefig(image_output_path + 'uniform-submatrix-11.png')"
   ]
  },
  {
   "cell_type": "code",
   "execution_count": null,
   "metadata": {},
   "outputs": [],
   "source": [
    "# Cleanup\n",
    "del uniform_matrix"
   ]
  },
  {
   "cell_type": "markdown",
   "metadata": {},
   "source": [
    "It's interesting to note that weighting the recommendations by the distribution of user ratings actually makes RMSE worse. This is because the user ratings are left-skew, mostly 4s and 5s, while we encode no rating as 0."
   ]
  },
  {
   "cell_type": "code",
   "execution_count": null,
   "metadata": {},
   "outputs": [],
   "source": [
    "density = scores['ratings']['density']"
   ]
  },
  {
   "cell_type": "code",
   "execution_count": null,
   "metadata": {},
   "outputs": [],
   "source": [
    "# Compute weights from ratings.csv\n",
    "weights_book = ratings_df['rating'].value_counts(\n",
    "    sort=False) / ratings_df['rating'].count()\n",
    "weights_book = [1 - density] + list(density * weights_book)\n",
    "weighted_matrix = csr_matrix(np.random.choice(values,\n",
    "                                              size=shape,\n",
    "                                              p=weights_book),\n",
    "                             dtype=np.uint8)"
   ]
  },
  {
   "cell_type": "code",
   "execution_count": null,
   "metadata": {},
   "outputs": [],
   "source": [
    "scores['weighted_1'] = compute_scores(weighted_matrix)"
   ]
  },
  {
   "cell_type": "code",
   "execution_count": null,
   "metadata": {},
   "outputs": [],
   "source": [
    "fig, ax = plt.subplots(figsize=(8, 8))\n",
    "make_matrix_plot(ax, weighted_matrix, title='Weighted (Density 0.01)')\n",
    "plt.savefig(image_output_path + 'weighted-submatrix-01.png')"
   ]
  },
  {
   "cell_type": "code",
   "execution_count": null,
   "metadata": {},
   "outputs": [],
   "source": [
    "density = 10 * scores['ratings']['density']"
   ]
  },
  {
   "cell_type": "code",
   "execution_count": null,
   "metadata": {},
   "outputs": [],
   "source": [
    "# Compute weights from ratings.csv\n",
    "weights_book = ratings_df['rating'].value_counts(\n",
    "    sort=False) / ratings_df['rating'].count()\n",
    "weights_book = [1 - density] + list(density * weights_book)\n",
    "weighted_matrix = csr_matrix(np.random.choice(values,\n",
    "                                              size=shape,\n",
    "                                              p=weights_book),\n",
    "                             dtype=np.uint8)"
   ]
  },
  {
   "cell_type": "code",
   "execution_count": null,
   "metadata": {},
   "outputs": [],
   "source": [
    "scores['weighted_1'] = compute_scores(weighted_matrix)"
   ]
  },
  {
   "cell_type": "code",
   "execution_count": null,
   "metadata": {},
   "outputs": [],
   "source": [
    "fig, ax = plt.subplots(figsize=(8, 8))\n",
    "make_matrix_plot(ax, weighted_matrix, title='Weighted (Density 0.11)')\n",
    "plt.savefig(image_output_path + 'weighted-submatrix-11.png')"
   ]
  },
  {
   "cell_type": "code",
   "execution_count": null,
   "metadata": {},
   "outputs": [],
   "source": [
    "del weighted_matrix"
   ]
  },
  {
   "cell_type": "markdown",
   "metadata": {},
   "source": [
    "A better approach to a random model, which may be more comparable to the baseline model below, would be to sample from the ratings distribution \"along rows\" weighted by book popularity, as a proportion of total ratings, \"along columns\"."
   ]
  },
  {
   "cell_type": "markdown",
   "metadata": {},
   "source": [
    "## Baseline Model"
   ]
  },
  {
   "cell_type": "markdown",
   "metadata": {},
   "source": [
    "Take the mean rating for each book as the value along each column of the matrix completion $A$."
   ]
  },
  {
   "cell_type": "code",
   "execution_count": null,
   "metadata": {},
   "outputs": [],
   "source": [
    "mean_matrix_column = np.array(ratings_matrix.mean(axis=0))"
   ]
  },
  {
   "cell_type": "code",
   "execution_count": null,
   "metadata": {},
   "outputs": [],
   "source": [
    "mean_matrix_column.shape"
   ]
  },
  {
   "cell_type": "code",
   "execution_count": null,
   "metadata": {},
   "outputs": [],
   "source": [
    "baseline_matrix = np.repeat(mean_matrix_column,\n",
    "                            ratings_matrix.shape[0],\n",
    "                            axis=0)\n",
    "\n",
    "scores['baseline'] = {\n",
    "    'rmse': compute_scores(baseline_matrix, sparse=False,\n",
    "                           density=False)['rmse'],\n",
    "    'density': 1\n",
    "}"
   ]
  },
  {
   "cell_type": "code",
   "execution_count": null,
   "metadata": {},
   "outputs": [],
   "source": [
    "baseline_matrix_plot = np.repeat(mean_matrix_column, 500, axis=0)\n",
    "\n",
    "fig, axs = plt.subplots(1, 2, figsize=(16, 8))\n",
    "\n",
    "axs[0] = make_matrix_plot(axs[0],\n",
    "                          baseline_matrix_plot,\n",
    "                          sparse=False,\n",
    "                          shrink=0.75,\n",
    "                          title='Baseline Submatrix')\n",
    "axs[1] = make_matrix_plot(axs[1],\n",
    "                          ratings_matrix,\n",
    "                          shrink=0.75,\n",
    "                          title='Ratings Submatrix')\n",
    "plt.savefig(image_output_path + 'baseline-matrix.png')"
   ]
  },
  {
   "cell_type": "code",
   "execution_count": null,
   "metadata": {},
   "outputs": [],
   "source": [
    "del baseline_matrix, mean_matrix_column"
   ]
  },
  {
   "cell_type": "code",
   "execution_count": null,
   "metadata": {},
   "outputs": [],
   "source": [
    "# Mean of columns over nonzeros only as baseline?\n",
    "# Would have to do some weighting by book popularity\n",
    "# sums = ratings_matrix.sum(axis=0)\n",
    "# counts = ratings_matrix.getnnz(axis=0)\n",
    "# average_book_ratings = sums / counts"
   ]
  },
  {
   "cell_type": "code",
   "execution_count": null,
   "metadata": {},
   "outputs": [],
   "source": [
    "# np.linalg.norm(ratings_matrix - np.repeat(average_book_ratings, ratings_matrix.shape[0], axis=0))"
   ]
  },
  {
   "cell_type": "markdown",
   "metadata": {},
   "source": [
    "## Factorizations"
   ]
  },
  {
   "cell_type": "markdown",
   "metadata": {},
   "source": [
    "We can think of $W$ as a matrix of user preferences for book profiles. A row $w_u$ of $W$ is a vector of length $k$ which describes the degree to which each of the $k$ latent factors influences user preferences for books. Similarly, a column $h_b$ of $H$ describes the degree to which each of the $k$ latent factors influences that book's preferences by users.\n",
    "\n",
    "The dot product $a_{ub} = w_u h_b^T$ captures the correlation between user $u$ and and book $b$ so that the matrix $A = WH$ we can consider to be a 'completion' of $V$."
   ]
  },
  {
   "cell_type": "markdown",
   "metadata": {},
   "source": [
    "### $k=1$\n",
    "\n",
    "Choosing a number of latent factors $k=1$ acts as a sort of baseline model as well. In this case $H$ is a vector of book ratings aggregated by user – while $W$ gives the component of each user in the $H$ 'direction'. In other words, $W$ describes how 'close' each user's ratings are to the aggregated book ratings. The vector $H$ is highly correlated to the column means of the baseline model, so recommendations from these two models are very similar, but the $k=1$ model scores better since it also takes into account how much each user's ratings are correlated to the aggregated book ratings. We now have not only a row vector of book rating means but a column vector of user correlations to the aggregated book ratings."
   ]
  },
  {
   "cell_type": "code",
   "execution_count": null,
   "metadata": {},
   "outputs": [],
   "source": [
    "# Set the number of latent factors\n",
    "n_components=1"
   ]
  },
  {
   "cell_type": "code",
   "execution_count": null,
   "metadata": {},
   "outputs": [],
   "source": [
    "from sklearn.decomposition import NMF\n",
    "from datetime import datetime"
   ]
  },
  {
   "cell_type": "code",
   "execution_count": null,
   "metadata": {},
   "outputs": [],
   "source": [
    "model = NMF(n_components=n_components,\n",
    "            random_state=20190719,\n",
    "#            alpha=300,\n",
    "#            l1_ratio=0.9\n",
    "           )"
   ]
  },
  {
   "cell_type": "code",
   "execution_count": null,
   "metadata": {
    "scrolled": true
   },
   "outputs": [],
   "source": [
    "print(datetime.now())\n",
    "W = model.fit_transform(ratings_matrix)\n",
    "print(datetime.now())\n",
    "\n",
    "H = model.components_"
   ]
  },
  {
   "cell_type": "code",
   "execution_count": null,
   "metadata": {},
   "outputs": [],
   "source": [
    "A = model.inverse_transform(W)\n",
    "\n",
    "scores['NMF_' + str(n_components)] = {\n",
    "    'rmse': model.reconstruction_err_,\n",
    "    'density': np.count_nonzero(A) / (A.shape[0] * A.shape[1])\n",
    "}"
   ]
  },
  {
   "cell_type": "code",
   "execution_count": null,
   "metadata": {},
   "outputs": [],
   "source": [
    "fig, axs = plt.subplots(1, 2, figsize=(16, 8))\n",
    "\n",
    "axs[0] = make_matrix_plot(axs[0],\n",
    "                          A,\n",
    "                          sparse=False,\n",
    "                          shrink=0.75,\n",
    "                          title='NMF_' + str(n_components))\n",
    "axs[1] = make_matrix_plot(axs[1],\n",
    "                          ratings_matrix,\n",
    "                          shrink=0.75,\n",
    "                          title='Ratings Submatrix')\n",
    "plt.savefig(image_output_path + 'nmf-' + str(n_components) + '.png')"
   ]
  },
  {
   "cell_type": "code",
   "execution_count": null,
   "metadata": {},
   "outputs": [],
   "source": [
    "fig, axs = plt.subplots(1, 2, figsize=(16, 8))\n",
    "\n",
    "col_shift = 1000\n",
    "axs[0] = make_matrix_plot(axs[0],\n",
    "                          A,\n",
    "                          sparse=False,\n",
    "                          shrink=0.75,\n",
    "                          col_shift=col_shift,\n",
    "                          title='NMF_' + str(n_components))\n",
    "axs[1] = make_matrix_plot(axs[1],\n",
    "                          ratings_matrix,\n",
    "                          shrink=0.75,\n",
    "                          col_shift=col_shift,\n",
    "                          title='Ratings Submatrix')\n",
    "plt.savefig(image_output_path + 'nmf-' + str(n_components) + '.png')"
   ]
  },
  {
   "cell_type": "code",
   "execution_count": null,
   "metadata": {},
   "outputs": [],
   "source": [
    "fig, axs = plt.subplots(1, 2, figsize=(16,8))\n",
    "\n",
    "col_shift = 4000\n",
    "axs[0] = make_matrix_plot(axs[0], A, sparse=False,\n",
    "                          shrink=0.75, col_shift=col_shift,\n",
    "                          title='NMF_' + str(n_components))\n",
    "axs[1] = make_matrix_plot(axs[1], ratings_matrix,\n",
    "                          shrink=0.75, col_shift=col_shift,\n",
    "                          title='Ratings Submatrix')\n",
    "plt.savefig(image_output_path + 'nmf-' + str(n_components) + '.png')"
   ]
  },
  {
   "cell_type": "code",
   "execution_count": null,
   "metadata": {},
   "outputs": [],
   "source": [
    "#del A"
   ]
  },
  {
   "cell_type": "code",
   "execution_count": null,
   "metadata": {},
   "outputs": [],
   "source": [
    "fig, ax = plt.subplots(figsize=(2,12))\n",
    "make_matrix_plot(ax, W, sparse=False, cmap='viridis',\n",
    "                 row_size=100, col_size=n_components,\n",
    "                colorbar=False, xlabel=None,\n",
    "                title='NMF_W_' + str(n_components))\n",
    "plt.savefig(image_output_path + 'nmf-W-' + str(n_components) + '.png')"
   ]
  },
  {
   "cell_type": "code",
   "execution_count": null,
   "metadata": {},
   "outputs": [],
   "source": [
    "fig, ax = plt.subplots(figsize=(12,2))\n",
    "make_matrix_plot(ax, H, sparse=False, cmap='viridis',\n",
    "                 col_size=100, row_size=n_components,\n",
    "                 colorbar=False, ylabel=None,\n",
    "                 title='NMF_H_' + str(n_components))\n",
    "plt.savefig(image_output_path + 'nmf-H-' + str(n_components) + '.png')"
   ]
  },
  {
   "cell_type": "code",
   "execution_count": null,
   "metadata": {},
   "outputs": [],
   "source": [
    "# Save model (W and H) to file\n",
    "np.savetxt(model_output_path + 'W_' + str(n_components) + '.csv', W)\n",
    "np.savetxt(model_output_path + 'H_' + str(n_components) + '.csv', H)\n",
    "\n",
    "print('The model memory usage is: ' \n",
    "      + '{:,}'.format(W.nbytes + H.nbytes)\n",
    "      + ' bytes.')"
   ]
  },
  {
   "cell_type": "markdown",
   "metadata": {},
   "source": [
    "### $k=10$\n",
    "\n",
    "Now let's try a few values for $k$. Lesser values of $k$ give more interpretable models whereas greater values of $k$ give more accurate models."
   ]
  },
  {
   "cell_type": "code",
   "execution_count": null,
   "metadata": {},
   "outputs": [],
   "source": [
    "n_components=10"
   ]
  },
  {
   "cell_type": "code",
   "execution_count": null,
   "metadata": {},
   "outputs": [],
   "source": [
    "model = NMF(n_components=n_components,\n",
    "            random_state=20190719,\n",
    "#            alpha=230,\n",
    "#            l1_ratio=0.9\n",
    "           )"
   ]
  },
  {
   "cell_type": "code",
   "execution_count": null,
   "metadata": {
    "scrolled": true
   },
   "outputs": [],
   "source": [
    "print(datetime.now())\n",
    "W = model.fit_transform(ratings_matrix)\n",
    "print(datetime.now())\n",
    "\n",
    "H = model.components_"
   ]
  },
  {
   "cell_type": "code",
   "execution_count": null,
   "metadata": {},
   "outputs": [],
   "source": [
    "A = model.inverse_transform(W)\n",
    "\n",
    "scores['NMF_' + str(n_components)] = {'rmse': model.reconstruction_err_,\n",
    "                   'density': np.count_nonzero(A) / (A.shape[0] * A.shape[1])}"
   ]
  },
  {
   "cell_type": "code",
   "execution_count": null,
   "metadata": {},
   "outputs": [],
   "source": [
    "fig, axs = plt.subplots(1, 2, figsize=(16, 8))\n",
    "\n",
    "axs[0] = make_matrix_plot(axs[0],\n",
    "                          A,\n",
    "                          sparse=False,\n",
    "                          shrink=0.75,\n",
    "                          title='NMF_' + str(n_components))\n",
    "axs[1] = make_matrix_plot(axs[1],\n",
    "                          ratings_matrix,\n",
    "                          shrink=0.75,\n",
    "                          title='Ratings Submatrix')\n",
    "plt.savefig(image_output_path + 'nmf-' + str(n_components) + '-left' + '.png')"
   ]
  },
  {
   "cell_type": "code",
   "execution_count": null,
   "metadata": {},
   "outputs": [],
   "source": [
    "fig, axs = plt.subplots(1, 2, figsize=(16, 8))\n",
    "\n",
    "axs[0] = make_matrix_plot(axs[0],\n",
    "                          A,\n",
    "                          sparse=False,\n",
    "                          row_size=40,\n",
    "                          col_size=40,\n",
    "                          shrink=0.75,\n",
    "                          title='NMF_' + str(n_components))\n",
    "axs[1] = make_matrix_plot(axs[1],\n",
    "                          ratings_matrix,\n",
    "                          row_size=40,\n",
    "                          col_size=40,\n",
    "                          shrink=0.75,\n",
    "                          title='Ratings Submatrix')\n",
    "plt.savefig(image_output_path + 'nmf-' + str(n_components) + '-left' + 'close' + '.png')"
   ]
  },
  {
   "cell_type": "code",
   "execution_count": null,
   "metadata": {},
   "outputs": [],
   "source": [
    "fig, axs = plt.subplots(1, 2, figsize=(16, 8))\n",
    "\n",
    "col_shift = 1000\n",
    "axs[0] = make_matrix_plot(axs[0],\n",
    "                          A,\n",
    "                          sparse=False,\n",
    "                          shrink=0.75,\n",
    "                          col_shift=col_shift,\n",
    "                          title='NMF_' + str(n_components))\n",
    "axs[1] = make_matrix_plot(axs[1],\n",
    "                          ratings_matrix,\n",
    "                          shrink=0.75,\n",
    "                          col_shift=col_shift,\n",
    "                          title='Ratings Submatrix')\n",
    "plt.savefig(image_output_path + 'nmf-' + str(n_components) + '-left-center' + '.png')"
   ]
  },
  {
   "cell_type": "code",
   "execution_count": null,
   "metadata": {},
   "outputs": [],
   "source": [
    "fig, axs = plt.subplots(1, 2, figsize=(16, 8))\n",
    "\n",
    "col_shift = 1000\n",
    "axs[0] = make_matrix_plot(axs[0],\n",
    "                          A,\n",
    "                          sparse=False,\n",
    "                          row_size=40,\n",
    "                          col_size=40,\n",
    "                          shrink=0.75,\n",
    "                          col_shift=col_shift,\n",
    "                          title='NMF_' + str(n_components))\n",
    "axs[1] = make_matrix_plot(axs[1],\n",
    "                          ratings_matrix,\n",
    "                          row_size=40,\n",
    "                          col_size=40,\n",
    "                          shrink=0.75,\n",
    "                          col_shift=col_shift,\n",
    "                          title='Ratings Submatrix')\n",
    "plt.savefig(image_output_path + 'nmf-' + str(n_components) + '-left-center-' + 'close' + '.png')"
   ]
  },
  {
   "cell_type": "code",
   "execution_count": null,
   "metadata": {},
   "outputs": [],
   "source": [
    "fig, axs = plt.subplots(1, 2, figsize=(16, 8))\n",
    "\n",
    "col_shift = 4000\n",
    "axs[0] = make_matrix_plot(axs[0],\n",
    "                          A,\n",
    "                          sparse=False,\n",
    "                          shrink=0.75,\n",
    "                          col_shift=col_shift,\n",
    "                          title='NMF_' + str(n_components))\n",
    "axs[1] = make_matrix_plot(axs[1],\n",
    "                          ratings_matrix,\n",
    "                          shrink=0.75,\n",
    "                          col_shift=col_shift,\n",
    "                          title='Ratings Submatrix')\n",
    "plt.savefig(image_output_path + 'nmf-' + str(n_components) + 'center' + '.png')"
   ]
  },
  {
   "cell_type": "code",
   "execution_count": null,
   "metadata": {},
   "outputs": [],
   "source": [
    "fig, axs = plt.subplots(1, 2, figsize=(16, 8))\n",
    "\n",
    "col_shift = 4000\n",
    "axs[0] = make_matrix_plot(axs[0],\n",
    "                          A,\n",
    "                          sparse=False,\n",
    "                          row_size=40,\n",
    "                          col_size=40,\n",
    "                          shrink=0.75,\n",
    "                          col_shift=col_shift,\n",
    "                          title='NMF_' + str(n_components))\n",
    "axs[1] = make_matrix_plot(axs[1],\n",
    "                          ratings_matrix,\n",
    "                          row_size=40,\n",
    "                          col_size=40,\n",
    "                          shrink=0.75,\n",
    "                          col_shift=col_shift,\n",
    "                          title='Ratings Submatrix')\n",
    "plt.savefig(image_output_path + 'nmf-' + str(n_components) + 'center-' + 'close' + '.png')"
   ]
  },
  {
   "cell_type": "code",
   "execution_count": null,
   "metadata": {},
   "outputs": [],
   "source": [
    "fig, ax = plt.subplots(figsize=(2, 12))\n",
    "make_matrix_plot(ax,\n",
    "                 W,\n",
    "                 sparse=False,\n",
    "                 cmap='viridis',\n",
    "                 row_size=100,\n",
    "                 col_size=n_components,\n",
    "                 colorbar=False,\n",
    "                 xlabel=None,\n",
    "                 title='NMF_W_' + str(n_components))\n",
    "plt.savefig(image_output_path + 'nmf-W-' + str(n_components) + '.png')"
   ]
  },
  {
   "cell_type": "code",
   "execution_count": null,
   "metadata": {},
   "outputs": [],
   "source": [
    "fig, ax = plt.subplots(figsize=(12, 2))\n",
    "make_matrix_plot(ax,\n",
    "                 H,\n",
    "                 sparse=False,\n",
    "                 cmap='viridis',\n",
    "                 col_size=100,\n",
    "                 row_size=n_components,\n",
    "                 colorbar=False,\n",
    "                 ylabel=None,\n",
    "                 title='NMF_H_' + str(n_components))\n",
    "plt.savefig(image_output_path + 'nmf-H-' + str(n_components) + '.png')"
   ]
  },
  {
   "cell_type": "code",
   "execution_count": null,
   "metadata": {},
   "outputs": [],
   "source": [
    "# Save model (W and H) to file\n",
    "np.savetxt(model_output_path + 'W_' + str(n_components) + '.csv', W)\n",
    "np.savetxt(model_output_path + 'H_' + str(n_components) + '.csv', H)\n",
    "\n",
    "print('The model memory usage is: ' + '{:,}'.format(W.nbytes + H.nbytes) +\n",
    "      ' bytes.')"
   ]
  },
  {
   "cell_type": "markdown",
   "metadata": {},
   "source": [
    "### $k=25$"
   ]
  },
  {
   "cell_type": "code",
   "execution_count": null,
   "metadata": {},
   "outputs": [],
   "source": [
    "n_components=25"
   ]
  },
  {
   "cell_type": "code",
   "execution_count": null,
   "metadata": {},
   "outputs": [],
   "source": [
    "model = NMF(\n",
    "    n_components=n_components,\n",
    "    random_state=20190719,\n",
    "    #            alpha=230,\n",
    "    #            l1_ratio=0.9\n",
    ")"
   ]
  },
  {
   "cell_type": "code",
   "execution_count": null,
   "metadata": {
    "scrolled": true
   },
   "outputs": [],
   "source": [
    "print(datetime.now())\n",
    "W = model.fit_transform(ratings_matrix)\n",
    "print(datetime.now())\n",
    "\n",
    "H = model.components_"
   ]
  },
  {
   "cell_type": "code",
   "execution_count": null,
   "metadata": {},
   "outputs": [],
   "source": [
    "A = model.inverse_transform(W)\n",
    "\n",
    "scores['NMF_' + str(n_components)] = {\n",
    "    'rmse': model.reconstruction_err_,\n",
    "    'density': np.count_nonzero(A) / (A.shape[0] * A.shape[1])\n",
    "}"
   ]
  },
  {
   "cell_type": "code",
   "execution_count": null,
   "metadata": {},
   "outputs": [],
   "source": [
    "fig, axs = plt.subplots(1, 2, figsize=(16, 8))\n",
    "\n",
    "axs[0] = make_matrix_plot(axs[0],\n",
    "                          A,\n",
    "                          sparse=False,\n",
    "                          shrink=0.75,\n",
    "                          title='NMF_' + str(n_components))\n",
    "axs[1] = make_matrix_plot(axs[1],\n",
    "                          ratings_matrix,\n",
    "                          shrink=0.75,\n",
    "                          title='Ratings Submatrix')\n",
    "plt.savefig(image_output_path + 'nmf-' + str(n_components) + '-left' + '.png')"
   ]
  },
  {
   "cell_type": "code",
   "execution_count": null,
   "metadata": {},
   "outputs": [],
   "source": [
    "fig, axs = plt.subplots(1, 2, figsize=(16, 8))\n",
    "\n",
    "axs[0] = make_matrix_plot(axs[0],\n",
    "                          A,\n",
    "                          sparse=False,\n",
    "                          row_size=40,\n",
    "                          col_size=40,\n",
    "                          shrink=0.75,\n",
    "                          title='NMF_' + str(n_components))\n",
    "axs[1] = make_matrix_plot(axs[1],\n",
    "                          ratings_matrix,\n",
    "                          row_size=40,\n",
    "                          col_size=40,\n",
    "                          shrink=0.75,\n",
    "                          title='Ratings Submatrix')\n",
    "plt.savefig(image_output_path + 'nmf-' + str(n_components) + '-left' + 'close' + '.png')"
   ]
  },
  {
   "cell_type": "code",
   "execution_count": null,
   "metadata": {},
   "outputs": [],
   "source": [
    "fig, axs = plt.subplots(1, 2, figsize=(16, 8))\n",
    "\n",
    "col_shift = 1000\n",
    "axs[0] = make_matrix_plot(axs[0],\n",
    "                          A,\n",
    "                          sparse=False,\n",
    "                          shrink=0.75,\n",
    "                          col_shift=col_shift,\n",
    "                          title='NMF_' + str(n_components))\n",
    "axs[1] = make_matrix_plot(axs[1],\n",
    "                          ratings_matrix,\n",
    "                          shrink=0.75,\n",
    "                          col_shift=col_shift,\n",
    "                          title='Ratings Submatrix')\n",
    "plt.savefig(image_output_path + 'nmf-' + str(n_components) + '-left-center' + '.png')"
   ]
  },
  {
   "cell_type": "code",
   "execution_count": null,
   "metadata": {},
   "outputs": [],
   "source": [
    "fig, axs = plt.subplots(1, 2, figsize=(16, 8))\n",
    "\n",
    "col_shift = 1000\n",
    "axs[0] = make_matrix_plot(axs[0],\n",
    "                          A,\n",
    "                          sparse=False,\n",
    "                          row_size=40,\n",
    "                          col_size=40,\n",
    "                          shrink=0.75,\n",
    "                          col_shift=col_shift,\n",
    "                          title='NMF_' + str(n_components))\n",
    "axs[1] = make_matrix_plot(axs[1],\n",
    "                          ratings_matrix,\n",
    "                          row_size=40,\n",
    "                          col_size=40,\n",
    "                          shrink=0.75,\n",
    "                          col_shift=col_shift,\n",
    "                          title='Ratings Submatrix')\n",
    "plt.savefig(image_output_path + 'nmf-' + str(n_components) + '-left-center-' + 'close' + '.png')"
   ]
  },
  {
   "cell_type": "code",
   "execution_count": null,
   "metadata": {},
   "outputs": [],
   "source": [
    "fig, axs = plt.subplots(1, 2, figsize=(16, 8))\n",
    "\n",
    "col_shift = 4000\n",
    "axs[0] = make_matrix_plot(axs[0],\n",
    "                          A,\n",
    "                          sparse=False,\n",
    "                          shrink=0.75,\n",
    "                          col_shift=col_shift,\n",
    "                          title='NMF_' + str(n_components))\n",
    "axs[1] = make_matrix_plot(axs[1],\n",
    "                          ratings_matrix,\n",
    "                          shrink=0.75,\n",
    "                          col_shift=col_shift,\n",
    "                          title='Ratings Submatrix')\n",
    "plt.savefig(image_output_path + 'nmf-' + str(n_components) + 'center' + '.png')"
   ]
  },
  {
   "cell_type": "code",
   "execution_count": null,
   "metadata": {},
   "outputs": [],
   "source": [
    "fig, axs = plt.subplots(1, 2, figsize=(16, 8))\n",
    "\n",
    "col_shift = 4000\n",
    "axs[0] = make_matrix_plot(axs[0],\n",
    "                          A,\n",
    "                          sparse=False,\n",
    "                          row_size=40,\n",
    "                          col_size=40,\n",
    "                          shrink=0.75,\n",
    "                          col_shift=col_shift,\n",
    "                          title='NMF_' + str(n_components))\n",
    "axs[1] = make_matrix_plot(axs[1],\n",
    "                          ratings_matrix,\n",
    "                          row_size=40,\n",
    "                          col_size=40,\n",
    "                          shrink=0.75,\n",
    "                          col_shift=col_shift,\n",
    "                          title='Ratings Submatrix')\n",
    "plt.savefig(image_output_path + 'nmf-' + str(n_components) + 'center-' + 'close' + '.png')"
   ]
  },
  {
   "cell_type": "code",
   "execution_count": null,
   "metadata": {},
   "outputs": [],
   "source": [
    "fig, ax = plt.subplots(figsize=(2, 14))\n",
    "make_matrix_plot(ax,\n",
    "                 W,\n",
    "                 sparse=False,\n",
    "                 cmap='viridis',\n",
    "                 row_size=250,\n",
    "                 col_size=n_components,\n",
    "                 colorbar=False,\n",
    "                 xlabel=None,\n",
    "                 title='NMF_W_' + str(n_components))\n",
    "plt.savefig(image_output_path + 'nmf-W-' + str(n_components) + '.png')"
   ]
  },
  {
   "cell_type": "code",
   "execution_count": null,
   "metadata": {},
   "outputs": [],
   "source": [
    "fig, ax = plt.subplots(figsize=(14, 2))\n",
    "make_matrix_plot(ax,\n",
    "                 H,\n",
    "                 sparse=False,\n",
    "                 cmap='viridis',\n",
    "                 col_size=250,\n",
    "                 row_size=n_components,\n",
    "                 colorbar=False,\n",
    "                 ylabel=None,\n",
    "                 title='NMF_H_' + str(n_components))\n",
    "plt.savefig(image_output_path + 'nmf-H-' + str(n_components) + '.png')"
   ]
  },
  {
   "cell_type": "code",
   "execution_count": null,
   "metadata": {},
   "outputs": [],
   "source": [
    "# Save model (W and H) to file\n",
    "np.savetxt(model_output_path + 'W_' + str(n_components) + '.csv', W)\n",
    "np.savetxt(model_output_path + 'H_' + str(n_components) + '.csv', H)\n",
    "\n",
    "print('The model memory usage is: ' + '{:,}'.format(W.nbytes + H.nbytes) +\n",
    "      ' bytes.')"
   ]
  },
  {
   "cell_type": "markdown",
   "metadata": {},
   "source": [
    "### $k=50$"
   ]
  },
  {
   "cell_type": "code",
   "execution_count": null,
   "metadata": {},
   "outputs": [],
   "source": [
    "n_components=50"
   ]
  },
  {
   "cell_type": "code",
   "execution_count": null,
   "metadata": {},
   "outputs": [],
   "source": [
    "model = NMF(\n",
    "    n_components=n_components,\n",
    "    random_state=20190719,\n",
    "    #             alpha=100,\n",
    "    #             l1_ratio=0.999\n",
    ")"
   ]
  },
  {
   "cell_type": "code",
   "execution_count": null,
   "metadata": {
    "scrolled": true
   },
   "outputs": [],
   "source": [
    "print(datetime.now())\n",
    "W = model.fit_transform(ratings_matrix)\n",
    "print(datetime.now())\n",
    "\n",
    "H = model.components_"
   ]
  },
  {
   "cell_type": "code",
   "execution_count": null,
   "metadata": {},
   "outputs": [],
   "source": [
    "A = model.inverse_transform(W)\n",
    "\n",
    "scores['NMF_' + str(n_components)] = {\n",
    "    'rmse': model.reconstruction_err_,\n",
    "    'density': np.count_nonzero(A) / (A.shape[0] * A.shape[1])\n",
    "}"
   ]
  },
  {
   "cell_type": "code",
   "execution_count": null,
   "metadata": {},
   "outputs": [],
   "source": [
    "fig, axs = plt.subplots(1, 2, figsize=(16, 8))\n",
    "\n",
    "axs[0] = make_matrix_plot(axs[0],\n",
    "                          A,\n",
    "                          sparse=False,\n",
    "                          shrink=0.75,\n",
    "                          title='NMF_' + str(n_components))\n",
    "axs[1] = make_matrix_plot(axs[1],\n",
    "                          ratings_matrix,\n",
    "                          shrink=0.75,\n",
    "                          title='Ratings Submatrix')\n",
    "plt.savefig(image_output_path + 'nmf-' + str(n_components) + '-left' + '.png')"
   ]
  },
  {
   "cell_type": "code",
   "execution_count": null,
   "metadata": {},
   "outputs": [],
   "source": [
    "fig, axs = plt.subplots(1, 2, figsize=(16, 8))\n",
    "\n",
    "axs[0] = make_matrix_plot(axs[0],\n",
    "                          A,\n",
    "                          sparse=False,\n",
    "                          row_size=40,\n",
    "                          col_size=40,\n",
    "                          shrink=0.75,\n",
    "                          title='NMF_' + str(n_components))\n",
    "axs[1] = make_matrix_plot(axs[1],\n",
    "                          ratings_matrix,\n",
    "                          row_size=40,\n",
    "                          col_size=40,\n",
    "                          shrink=0.75,\n",
    "                          title='Ratings Submatrix')\n",
    "plt.savefig(image_output_path + 'nmf-' + str(n_components) + '-left' + 'close' + '.png')"
   ]
  },
  {
   "cell_type": "code",
   "execution_count": null,
   "metadata": {},
   "outputs": [],
   "source": [
    "fig, axs = plt.subplots(1, 2, figsize=(16, 8))\n",
    "\n",
    "col_shift = 1000\n",
    "axs[0] = make_matrix_plot(axs[0],\n",
    "                          A,\n",
    "                          sparse=False,\n",
    "                          shrink=0.75,\n",
    "                          col_shift=col_shift,\n",
    "                          title='NMF_' + str(n_components))\n",
    "axs[1] = make_matrix_plot(axs[1],\n",
    "                          ratings_matrix,\n",
    "                          shrink=0.75,\n",
    "                          col_shift=col_shift,\n",
    "                          title='Ratings Submatrix')\n",
    "plt.savefig(image_output_path + 'nmf-' + str(n_components) + '-left-center' + '.png')"
   ]
  },
  {
   "cell_type": "code",
   "execution_count": null,
   "metadata": {},
   "outputs": [],
   "source": [
    "fig, axs = plt.subplots(1, 2, figsize=(16, 8))\n",
    "\n",
    "col_shift = 1000\n",
    "axs[0] = make_matrix_plot(axs[0],\n",
    "                          A,\n",
    "                          sparse=False,\n",
    "                          row_size=40,\n",
    "                          col_size=40,\n",
    "                          shrink=0.75,\n",
    "                          col_shift=col_shift,\n",
    "                          title='NMF_' + str(n_components))\n",
    "axs[1] = make_matrix_plot(axs[1],\n",
    "                          ratings_matrix,\n",
    "                          row_size=40,\n",
    "                          col_size=40,\n",
    "                          shrink=0.75,\n",
    "                          col_shift=col_shift,\n",
    "                          title='Ratings Submatrix')\n",
    "plt.savefig(image_output_path + 'nmf-' + str(n_components) + '-left-center-' + 'close' + '.png')"
   ]
  },
  {
   "cell_type": "code",
   "execution_count": null,
   "metadata": {},
   "outputs": [],
   "source": [
    "fig, axs = plt.subplots(1, 2, figsize=(16, 8))\n",
    "\n",
    "col_shift = 4000\n",
    "axs[0] = make_matrix_plot(axs[0],\n",
    "                          A,\n",
    "                          sparse=False,\n",
    "                          shrink=0.75,\n",
    "                          col_shift=col_shift,\n",
    "                          title='NMF_' + str(n_components))\n",
    "axs[1] = make_matrix_plot(axs[1],\n",
    "                          ratings_matrix,\n",
    "                          shrink=0.75,\n",
    "                          col_shift=col_shift,\n",
    "                          title='Ratings Submatrix')\n",
    "plt.savefig(image_output_path + 'nmf-' + str(n_components) + 'center' + '.png')"
   ]
  },
  {
   "cell_type": "code",
   "execution_count": null,
   "metadata": {},
   "outputs": [],
   "source": [
    "fig, axs = plt.subplots(1, 2, figsize=(16, 8))\n",
    "\n",
    "col_shift = 4000\n",
    "axs[0] = make_matrix_plot(axs[0],\n",
    "                          A,\n",
    "                          sparse=False,\n",
    "                          row_size=40,\n",
    "                          col_size=40,\n",
    "                          shrink=0.75,\n",
    "                          col_shift=col_shift,\n",
    "                          title='NMF_' + str(n_components))\n",
    "axs[1] = make_matrix_plot(axs[1],\n",
    "                          ratings_matrix,\n",
    "                          row_size=40,\n",
    "                          col_size=40,\n",
    "                          shrink=0.75,\n",
    "                          col_shift=col_shift,\n",
    "                          title='Ratings Submatrix')\n",
    "plt.savefig(image_output_path + 'nmf-' + str(n_components) + 'center-' + 'close' + '.png')"
   ]
  },
  {
   "cell_type": "code",
   "execution_count": null,
   "metadata": {},
   "outputs": [],
   "source": [
    "fig, ax = plt.subplots(figsize=(4, 14))\n",
    "make_matrix_plot(ax,\n",
    "                 W,\n",
    "                 sparse=False,\n",
    "                 cmap='viridis',\n",
    "                 row_size=250,\n",
    "                 col_size=n_components,\n",
    "                 colorbar=False,\n",
    "                 xlabel=None,\n",
    "                 title='NMF_W_' + str(n_components))\n",
    "plt.savefig(image_output_path + 'nmf-W-' + str(n_components) + '.png')"
   ]
  },
  {
   "cell_type": "code",
   "execution_count": null,
   "metadata": {},
   "outputs": [],
   "source": [
    "fig, ax = plt.subplots(figsize=(14, 4))\n",
    "make_matrix_plot(ax,\n",
    "                 H,\n",
    "                 sparse=False,\n",
    "                 cmap='viridis',\n",
    "                 col_size=250,\n",
    "                 row_size=n_components,\n",
    "                 colorbar=False,\n",
    "                 ylabel=None,\n",
    "                 title='NMF_' + str(n_components))\n",
    "plt.savefig(image_output_path + 'nmf-H-' + str(n_components) + '.png')"
   ]
  },
  {
   "cell_type": "code",
   "execution_count": null,
   "metadata": {},
   "outputs": [],
   "source": [
    "# Save model (W and H) to file\n",
    "np.savetxt(model_output_path + 'W_' + str(n_components) + '.csv', W)\n",
    "np.savetxt(model_output_path + 'H_' + str(n_components) + '.csv', H)\n",
    "\n",
    "print('The model memory usage is: ' + '{:,}'.format(W.nbytes + H.nbytes) +\n",
    "      ' bytes.')"
   ]
  },
  {
   "cell_type": "markdown",
   "metadata": {},
   "source": [
    "### $k=100$"
   ]
  },
  {
   "cell_type": "code",
   "execution_count": null,
   "metadata": {},
   "outputs": [],
   "source": [
    "n_components=100"
   ]
  },
  {
   "cell_type": "code",
   "execution_count": null,
   "metadata": {},
   "outputs": [],
   "source": [
    "model = NMF(n_components=n_components,\n",
    "            random_state=20190719,\n",
    "#             alpha=100,\n",
    "#             l1_ratio=0.999\n",
    "           )"
   ]
  },
  {
   "cell_type": "code",
   "execution_count": null,
   "metadata": {
    "scrolled": true
   },
   "outputs": [],
   "source": [
    "print(datetime.now())\n",
    "W = model.fit_transform(ratings_matrix)\n",
    "print(datetime.now())\n",
    "\n",
    "H = model.components_"
   ]
  },
  {
   "cell_type": "code",
   "execution_count": null,
   "metadata": {},
   "outputs": [],
   "source": [
    "A = model.inverse_transform(W)\n",
    "\n",
    "scores['NMF_' + str(n_components)] = {'rmse': model.reconstruction_err_,\n",
    "                   'density': np.count_nonzero(A) / (A.shape[0] * A.shape[1])}"
   ]
  },
  {
   "cell_type": "code",
   "execution_count": null,
   "metadata": {},
   "outputs": [],
   "source": [
    "fig, axs = plt.subplots(1, 2, figsize=(16, 8))\n",
    "\n",
    "axs[0] = make_matrix_plot(axs[0],\n",
    "                          A,\n",
    "                          sparse=False,\n",
    "                          shrink=0.75,\n",
    "                          title='NMF_' + str(n_components))\n",
    "axs[1] = make_matrix_plot(axs[1],\n",
    "                          ratings_matrix,\n",
    "                          shrink=0.75,\n",
    "                          title='Ratings Submatrix')\n",
    "plt.savefig(image_output_path + 'nmf-' + str(n_components) + '-left' + '.png')"
   ]
  },
  {
   "cell_type": "code",
   "execution_count": null,
   "metadata": {},
   "outputs": [],
   "source": [
    "fig, axs = plt.subplots(1, 2, figsize=(16, 8))\n",
    "\n",
    "axs[0] = make_matrix_plot(axs[0],\n",
    "                          A,\n",
    "                          sparse=False,\n",
    "                          row_size=40,\n",
    "                          col_size=40,\n",
    "                          shrink=0.75,\n",
    "                          title='NMF_' + str(n_components))\n",
    "axs[1] = make_matrix_plot(axs[1],\n",
    "                          ratings_matrix,\n",
    "                          row_size=40,\n",
    "                          col_size=40,\n",
    "                          shrink=0.75,\n",
    "                          title='Ratings Submatrix')\n",
    "plt.savefig(image_output_path + 'nmf-' + str(n_components) + '-left' + 'close' + '.png')"
   ]
  },
  {
   "cell_type": "code",
   "execution_count": null,
   "metadata": {},
   "outputs": [],
   "source": [
    "fig, axs = plt.subplots(1, 2, figsize=(16, 8))\n",
    "\n",
    "col_shift = 1000\n",
    "axs[0] = make_matrix_plot(axs[0],\n",
    "                          A,\n",
    "                          sparse=False,\n",
    "                          shrink=0.75,\n",
    "                          col_shift=col_shift,\n",
    "                          title='NMF_' + str(n_components))\n",
    "axs[1] = make_matrix_plot(axs[1],\n",
    "                          ratings_matrix,\n",
    "                          shrink=0.75,\n",
    "                          col_shift=col_shift,\n",
    "                          title='Ratings Submatrix')\n",
    "plt.savefig(image_output_path + 'nmf-' + str(n_components) + '-left-center' + '.png')"
   ]
  },
  {
   "cell_type": "code",
   "execution_count": null,
   "metadata": {},
   "outputs": [],
   "source": [
    "fig, axs = plt.subplots(1, 2, figsize=(16, 8))\n",
    "\n",
    "col_shift = 1000\n",
    "axs[0] = make_matrix_plot(axs[0],\n",
    "                          A,\n",
    "                          sparse=False,\n",
    "                          row_size=40,\n",
    "                          col_size=40,\n",
    "                          shrink=0.75,\n",
    "                          col_shift=col_shift,\n",
    "                          title='NMF_' + str(n_components))\n",
    "axs[1] = make_matrix_plot(axs[1],\n",
    "                          ratings_matrix,\n",
    "                          row_size=40,\n",
    "                          col_size=40,\n",
    "                          shrink=0.75,\n",
    "                          col_shift=col_shift,\n",
    "                          title='Ratings Submatrix')\n",
    "plt.savefig(image_output_path + 'nmf-' + str(n_components) + '-left-center-' + 'close' + '.png')"
   ]
  },
  {
   "cell_type": "code",
   "execution_count": null,
   "metadata": {},
   "outputs": [],
   "source": [
    "fig, axs = plt.subplots(1, 2, figsize=(16, 8))\n",
    "\n",
    "col_shift = 4000\n",
    "axs[0] = make_matrix_plot(axs[0],\n",
    "                          A,\n",
    "                          sparse=False,\n",
    "                          shrink=0.75,\n",
    "                          col_shift=col_shift,\n",
    "                          title='NMF_' + str(n_components))\n",
    "axs[1] = make_matrix_plot(axs[1],\n",
    "                          ratings_matrix,\n",
    "                          shrink=0.75,\n",
    "                          col_shift=col_shift,\n",
    "                          title='Ratings Submatrix')\n",
    "plt.savefig(image_output_path + 'nmf-' + str(n_components) + 'center' + '.png')"
   ]
  },
  {
   "cell_type": "code",
   "execution_count": null,
   "metadata": {},
   "outputs": [],
   "source": [
    "fig, axs = plt.subplots(1, 2, figsize=(16, 8))\n",
    "\n",
    "col_shift = 4000\n",
    "axs[0] = make_matrix_plot(axs[0],\n",
    "                          A,\n",
    "                          sparse=False,\n",
    "                          row_size=40,\n",
    "                          col_size=40,\n",
    "                          shrink=0.75,\n",
    "                          col_shift=col_shift,\n",
    "                          title='NMF_' + str(n_components))\n",
    "axs[1] = make_matrix_plot(axs[1],\n",
    "                          ratings_matrix,\n",
    "                          row_size=40,\n",
    "                          col_size=40,\n",
    "                          shrink=0.75,\n",
    "                          col_shift=col_shift,\n",
    "                          title='Ratings Submatrix')\n",
    "plt.savefig(image_output_path + 'nmf-' + str(n_components) + 'center-' + 'close' + '.png')"
   ]
  },
  {
   "cell_type": "code",
   "execution_count": null,
   "metadata": {},
   "outputs": [],
   "source": [
    "fig, ax = plt.subplots(figsize=(4, 14))\n",
    "make_matrix_plot(ax,\n",
    "                 W,\n",
    "                 sparse=False,\n",
    "                 cmap='viridis',\n",
    "                 row_size=400,\n",
    "                 col_size=n_components,\n",
    "                 colorbar=False,\n",
    "                 xlabel=None,\n",
    "                 title='NMF_W_' + str(n_components))\n",
    "plt.savefig(image_output_path + 'nmf-W-' + str(n_components) + '.png')"
   ]
  },
  {
   "cell_type": "code",
   "execution_count": null,
   "metadata": {},
   "outputs": [],
   "source": [
    "fig, ax = plt.subplots(figsize=(14, 4))\n",
    "make_matrix_plot(ax,\n",
    "                 H,\n",
    "                 sparse=False,\n",
    "                 cmap='viridis',\n",
    "                 col_size=400,\n",
    "                 row_size=n_components,\n",
    "                 colorbar=False,\n",
    "                 ylabel=None,\n",
    "                 title='NMF_H_' + str(n_components))\n",
    "plt.savefig(image_output_path + 'nmf-H-' + str(n_components) + '.png')"
   ]
  },
  {
   "cell_type": "code",
   "execution_count": null,
   "metadata": {},
   "outputs": [],
   "source": [
    "# Save model (W and H) to file\n",
    "np.savetxt(model_output_path + 'W_' + str(n_components) + '.csv', W)\n",
    "np.savetxt(model_output_path + 'H_' + str(n_components) + '.csv', H)\n",
    "\n",
    "print('The model memory usage is: ' + '{:,}'.format(W.nbytes + H.nbytes) +\n",
    "      ' bytes.')"
   ]
  },
  {
   "cell_type": "markdown",
   "metadata": {},
   "source": [
    "### $k=250$"
   ]
  },
  {
   "cell_type": "code",
   "execution_count": null,
   "metadata": {},
   "outputs": [],
   "source": [
    "n_components = 250"
   ]
  },
  {
   "cell_type": "code",
   "execution_count": null,
   "metadata": {},
   "outputs": [],
   "source": [
    "model = NMF(\n",
    "    n_components=n_components,\n",
    "    random_state=20190719,\n",
    "    #             alpha=100,\n",
    "    #             l1_ratio=0.999\n",
    ")"
   ]
  },
  {
   "cell_type": "code",
   "execution_count": null,
   "metadata": {
    "scrolled": true
   },
   "outputs": [],
   "source": [
    "print(datetime.now())\n",
    "W = model.fit_transform(ratings_matrix)\n",
    "print(datetime.now())\n",
    "\n",
    "H = model.components_"
   ]
  },
  {
   "cell_type": "code",
   "execution_count": null,
   "metadata": {},
   "outputs": [],
   "source": [
    "A = model.inverse_transform(W)\n",
    "\n",
    "scores['NMF_' + str(n_components)] = {\n",
    "    'rmse': model.reconstruction_err_,\n",
    "    'density': np.count_nonzero(A) / (A.shape[0] * A.shape[1])\n",
    "}"
   ]
  },
  {
   "cell_type": "code",
   "execution_count": null,
   "metadata": {},
   "outputs": [],
   "source": [
    "fig, axs = plt.subplots(1, 2, figsize=(16, 8))\n",
    "\n",
    "axs[0] = make_matrix_plot(axs[0],\n",
    "                          A,\n",
    "                          sparse=False,\n",
    "                          shrink=0.75,\n",
    "                          title='NMF_' + str(n_components))\n",
    "axs[1] = make_matrix_plot(axs[1],\n",
    "                          ratings_matrix,\n",
    "                          shrink=0.75,\n",
    "                          title='Ratings Submatrix')\n",
    "plt.savefig(image_output_path + 'nmf-' + str(n_components) + '-left' + '.png')"
   ]
  },
  {
   "cell_type": "code",
   "execution_count": null,
   "metadata": {},
   "outputs": [],
   "source": [
    "fig, axs = plt.subplots(1, 2, figsize=(16, 8))\n",
    "\n",
    "axs[0] = make_matrix_plot(axs[0],\n",
    "                          A,\n",
    "                          sparse=False,\n",
    "                          row_size=40,\n",
    "                          col_size=40,\n",
    "                          shrink=0.75,\n",
    "                          title='NMF_' + str(n_components))\n",
    "axs[1] = make_matrix_plot(axs[1],\n",
    "                          ratings_matrix,\n",
    "                          row_size=40,\n",
    "                          col_size=40,\n",
    "                          shrink=0.75,\n",
    "                          title='Ratings Submatrix')\n",
    "plt.savefig(image_output_path + 'nmf-' + str(n_components) + '-left' + 'close' + '.png')"
   ]
  },
  {
   "cell_type": "code",
   "execution_count": null,
   "metadata": {},
   "outputs": [],
   "source": [
    "fig, axs = plt.subplots(1, 2, figsize=(16, 8))\n",
    "\n",
    "col_shift = 1000\n",
    "axs[0] = make_matrix_plot(axs[0],\n",
    "                          A,\n",
    "                          sparse=False,\n",
    "                          shrink=0.75,\n",
    "                          col_shift=col_shift,\n",
    "                          title='NMF_' + str(n_components))\n",
    "axs[1] = make_matrix_plot(axs[1],\n",
    "                          ratings_matrix,\n",
    "                          shrink=0.75,\n",
    "                          col_shift=col_shift,\n",
    "                          title='Ratings Submatrix')\n",
    "plt.savefig(image_output_path + 'nmf-' + str(n_components) + '-left-center' + '.png')"
   ]
  },
  {
   "cell_type": "code",
   "execution_count": null,
   "metadata": {},
   "outputs": [],
   "source": [
    "fig, axs = plt.subplots(1, 2, figsize=(16, 8))\n",
    "\n",
    "col_shift = 1000\n",
    "axs[0] = make_matrix_plot(axs[0],\n",
    "                          A,\n",
    "                          sparse=False,\n",
    "                          row_size=40,\n",
    "                          col_size=40,\n",
    "                          shrink=0.75,\n",
    "                          col_shift=col_shift,\n",
    "                          title='NMF_' + str(n_components))\n",
    "axs[1] = make_matrix_plot(axs[1],\n",
    "                          ratings_matrix,\n",
    "                          row_size=40,\n",
    "                          col_size=40,\n",
    "                          shrink=0.75,\n",
    "                          col_shift=col_shift,\n",
    "                          title='Ratings Submatrix')\n",
    "plt.savefig(image_output_path + 'nmf-' + str(n_components) + '-left-center-' + 'close' + '.png')"
   ]
  },
  {
   "cell_type": "code",
   "execution_count": null,
   "metadata": {},
   "outputs": [],
   "source": [
    "fig, axs = plt.subplots(1, 2, figsize=(16, 8))\n",
    "\n",
    "col_shift = 4000\n",
    "axs[0] = make_matrix_plot(axs[0],\n",
    "                          A,\n",
    "                          sparse=False,\n",
    "                          shrink=0.75,\n",
    "                          col_shift=col_shift,\n",
    "                          title='NMF_' + str(n_components))\n",
    "axs[1] = make_matrix_plot(axs[1],\n",
    "                          ratings_matrix,\n",
    "                          shrink=0.75,\n",
    "                          col_shift=col_shift,\n",
    "                          title='Ratings Submatrix')\n",
    "plt.savefig(image_output_path + 'nmf-' + str(n_components) + 'center' + '.png')"
   ]
  },
  {
   "cell_type": "code",
   "execution_count": null,
   "metadata": {},
   "outputs": [],
   "source": [
    "fig, axs = plt.subplots(1, 2, figsize=(16, 8))\n",
    "\n",
    "col_shift = 4000\n",
    "axs[0] = make_matrix_plot(axs[0],\n",
    "                          A,\n",
    "                          sparse=False,\n",
    "                          row_size=40,\n",
    "                          col_size=40,\n",
    "                          shrink=0.75,\n",
    "                          col_shift=col_shift,\n",
    "                          title='NMF_' + str(n_components))\n",
    "axs[1] = make_matrix_plot(axs[1],\n",
    "                          ratings_matrix,\n",
    "                          row_size=40,\n",
    "                          col_size=40,\n",
    "                          shrink=0.75,\n",
    "                          col_shift=col_shift,\n",
    "                          title='Ratings Submatrix')\n",
    "plt.savefig(image_output_path + 'nmf-' + str(n_components) + 'center-' + 'close' + '.png')"
   ]
  },
  {
   "cell_type": "code",
   "execution_count": null,
   "metadata": {},
   "outputs": [],
   "source": [
    "fig, ax = plt.subplots(figsize=(6, 16))\n",
    "make_matrix_plot(ax,\n",
    "                 W,\n",
    "                 sparse=False,\n",
    "                 cmap='viridis',\n",
    "                 row_size=500,\n",
    "                 col_size=n_components,\n",
    "                 colorbar=False,\n",
    "                 xlabel=None,\n",
    "                 title='NMF_W_' + str(n_components))\n",
    "plt.savefig(image_output_path + 'nmf-W-' + str(n_components) + '.png')"
   ]
  },
  {
   "cell_type": "code",
   "execution_count": null,
   "metadata": {},
   "outputs": [],
   "source": [
    "fig, ax = plt.subplots(figsize=(16, 6))\n",
    "make_matrix_plot(ax,\n",
    "                 H,\n",
    "                 sparse=False,\n",
    "                 cmap='viridis',\n",
    "                 col_size=500,\n",
    "                 row_size=n_components,\n",
    "                 colorbar=False,\n",
    "                 ylabel=None,\n",
    "                 title='NMF_H_' + str(n_components))\n",
    "plt.savefig(image_output_path + 'nmf-H-' + str(n_components) + '.png')"
   ]
  },
  {
   "cell_type": "code",
   "execution_count": null,
   "metadata": {},
   "outputs": [],
   "source": [
    "# Save model (W and H) to file\n",
    "np.savetxt(model_output_path + 'W_' + str(n_components) + '.csv', W)\n",
    "np.savetxt(model_output_path + 'H_' + str(n_components) + '.csv', H)\n",
    "\n",
    "print('The model memory usage is: ' + '{:,}'.format(W.nbytes + H.nbytes) +\n",
    "      ' bytes.')"
   ]
  },
  {
   "cell_type": "markdown",
   "metadata": {},
   "source": [
    "## Scores\n",
    "We'll plot the RMSEs of the models."
   ]
  },
  {
   "cell_type": "code",
   "execution_count": null,
   "metadata": {},
   "outputs": [],
   "source": [
    "import seaborn as sns"
   ]
  },
  {
   "cell_type": "code",
   "execution_count": null,
   "metadata": {},
   "outputs": [],
   "source": [
    "names = []\n",
    "rmses = []\n",
    "\n",
    "for key, val in scores.items():\n",
    "    if key not in ['uniform_10', 'weighted_1']:\n",
    "        names.append(key)\n",
    "        rmses.append(val['rmse'])\n",
    "\n",
    "plt.figure(figsize=(10, 8))\n",
    "sns.barplot(x='RMSE',\n",
    "            y='model',\n",
    "            data=pd.Series(data={\n",
    "                'model': names,\n",
    "                'RMSE': rmses\n",
    "            }),\n",
    "            palette='Set2')\n",
    "plt.title('Model RMSEs')\n",
    "plt.savefig(image_output_path + 'model-rmses.png')"
   ]
  },
  {
   "cell_type": "code",
   "execution_count": null,
   "metadata": {},
   "outputs": [],
   "source": []
  },
  {
   "cell_type": "code",
   "execution_count": null,
   "metadata": {},
   "outputs": [],
   "source": []
  },
  {
   "cell_type": "code",
   "execution_count": null,
   "metadata": {},
   "outputs": [],
   "source": []
  }
 ],
 "metadata": {
  "kernelspec": {
   "display_name": "Python 3",
   "language": "python",
   "name": "python3"
  },
  "language_info": {
   "codemirror_mode": {
    "name": "ipython",
    "version": 3
   },
   "file_extension": ".py",
   "mimetype": "text/x-python",
   "name": "python",
   "nbconvert_exporter": "python",
   "pygments_lexer": "ipython3",
   "version": "3.7.3"
  },
  "latex_envs": {
   "LaTeX_envs_menu_present": true,
   "autoclose": false,
   "autocomplete": false,
   "bibliofile": "biblio.bib",
   "cite_by": "apalike",
   "current_citInitial": 1,
   "eqLabelWithNumbers": false,
   "eqNumInitial": 1,
   "hotkeys": {
    "equation": "ctrl-meta-e"
   },
   "labels_anchors": false,
   "latex_user_defs": false,
   "report_style_numbering": false,
   "user_envs_cfg": false
  },
  "toc": {
   "base_numbering": 1,
   "nav_menu": {
    "height": "305px",
    "width": "380px"
   },
   "number_sections": true,
   "sideBar": true,
   "skip_h1_title": false,
   "title_cell": "Table of Contents",
   "title_sidebar": "Contents",
   "toc_cell": false,
   "toc_position": {},
   "toc_section_display": true,
   "toc_window_display": true
  }
 },
 "nbformat": 4,
 "nbformat_minor": 1
}
