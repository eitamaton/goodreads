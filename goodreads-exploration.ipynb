{
 "cells": [
  {
   "cell_type": "code",
   "execution_count": 107,
   "metadata": {},
   "outputs": [],
   "source": [
    "%matplotlib inline"
   ]
  },
  {
   "cell_type": "code",
   "execution_count": 108,
   "metadata": {},
   "outputs": [],
   "source": [
    "# from matplotlib import rc\n",
    "# #rc('font',**{'family':'sans-serif','sans-serif':['Helvetica']})\n",
    "# ## for Palatino and other serif fonts use:\n",
    "# rc('font',**{'family':'serif','serif':['Palatino']})\n",
    "# rc('text', usetex=True)"
   ]
  },
  {
   "cell_type": "markdown",
   "metadata": {},
   "source": [
    "# Exploratory Data Analysis"
   ]
  },
  {
   "cell_type": "code",
   "execution_count": 109,
   "metadata": {},
   "outputs": [],
   "source": [
    "import pandas as pd\n",
    "import numpy as np\n",
    "import matplotlib.pyplot as plt\n",
    "import seaborn as sns"
   ]
  },
  {
   "cell_type": "code",
   "execution_count": 110,
   "metadata": {},
   "outputs": [],
   "source": [
    "# Load data\n",
    "\n",
    "raw_data_path = './data/raw/goodbooks-10k-master/'\n",
    "\n",
    "ratings_df = pd.read_csv(raw_data_path + 'ratings.csv',\n",
    "                        dtype={'rating': np.uint8,\n",
    "                               'user_id': np.uint16,\n",
    "                               'book_id': np.uint16})\n",
    "\n",
    "to_read_df = pd.read_csv(raw_data_path + 'to_read.csv')\n",
    "books_df = pd.read_csv(raw_data_path + 'books.csv')\n",
    "\n",
    "tags_df = pd.read_csv(raw_data_path + 'tags.csv')\n",
    "book_tags_df = pd.read_csv(raw_data_path + 'book_tags.csv')"
   ]
  },
  {
   "cell_type": "markdown",
   "metadata": {},
   "source": [
    "## Books"
   ]
  },
  {
   "cell_type": "markdown",
   "metadata": {},
   "source": [
    "The `books_df` is ordered by `ratings_count`. Note this column lists the count of ratings for all Goodreads users rather than for the ratings in `ratings_df`.\n",
    "\n",
    "We should inspect whether `average_rating` is influenced by other `books_df` features."
   ]
  },
  {
   "cell_type": "code",
   "execution_count": 111,
   "metadata": {},
   "outputs": [
    {
     "data": {
      "text/html": [
       "<div>\n",
       "<style scoped>\n",
       "    .dataframe tbody tr th:only-of-type {\n",
       "        vertical-align: middle;\n",
       "    }\n",
       "\n",
       "    .dataframe tbody tr th {\n",
       "        vertical-align: top;\n",
       "    }\n",
       "\n",
       "    .dataframe thead th {\n",
       "        text-align: right;\n",
       "    }\n",
       "</style>\n",
       "<table border=\"1\" class=\"dataframe\">\n",
       "  <thead>\n",
       "    <tr style=\"text-align: right;\">\n",
       "      <th></th>\n",
       "      <th>book_id</th>\n",
       "      <th>goodreads_book_id</th>\n",
       "      <th>best_book_id</th>\n",
       "      <th>work_id</th>\n",
       "      <th>books_count</th>\n",
       "      <th>isbn</th>\n",
       "      <th>isbn13</th>\n",
       "      <th>authors</th>\n",
       "      <th>original_publication_year</th>\n",
       "      <th>original_title</th>\n",
       "      <th>...</th>\n",
       "      <th>ratings_count</th>\n",
       "      <th>work_ratings_count</th>\n",
       "      <th>work_text_reviews_count</th>\n",
       "      <th>ratings_1</th>\n",
       "      <th>ratings_2</th>\n",
       "      <th>ratings_3</th>\n",
       "      <th>ratings_4</th>\n",
       "      <th>ratings_5</th>\n",
       "      <th>image_url</th>\n",
       "      <th>small_image_url</th>\n",
       "    </tr>\n",
       "  </thead>\n",
       "  <tbody>\n",
       "    <tr>\n",
       "      <th>0</th>\n",
       "      <td>1</td>\n",
       "      <td>2767052</td>\n",
       "      <td>2767052</td>\n",
       "      <td>2792775</td>\n",
       "      <td>272</td>\n",
       "      <td>439023483</td>\n",
       "      <td>9.780439e+12</td>\n",
       "      <td>Suzanne Collins</td>\n",
       "      <td>2008.0</td>\n",
       "      <td>The Hunger Games</td>\n",
       "      <td>...</td>\n",
       "      <td>4780653</td>\n",
       "      <td>4942365</td>\n",
       "      <td>155254</td>\n",
       "      <td>66715</td>\n",
       "      <td>127936</td>\n",
       "      <td>560092</td>\n",
       "      <td>1481305</td>\n",
       "      <td>2706317</td>\n",
       "      <td>https://images.gr-assets.com/books/1447303603m...</td>\n",
       "      <td>https://images.gr-assets.com/books/1447303603s...</td>\n",
       "    </tr>\n",
       "    <tr>\n",
       "      <th>1</th>\n",
       "      <td>2</td>\n",
       "      <td>3</td>\n",
       "      <td>3</td>\n",
       "      <td>4640799</td>\n",
       "      <td>491</td>\n",
       "      <td>439554934</td>\n",
       "      <td>9.780440e+12</td>\n",
       "      <td>J.K. Rowling, Mary GrandPré</td>\n",
       "      <td>1997.0</td>\n",
       "      <td>Harry Potter and the Philosopher's Stone</td>\n",
       "      <td>...</td>\n",
       "      <td>4602479</td>\n",
       "      <td>4800065</td>\n",
       "      <td>75867</td>\n",
       "      <td>75504</td>\n",
       "      <td>101676</td>\n",
       "      <td>455024</td>\n",
       "      <td>1156318</td>\n",
       "      <td>3011543</td>\n",
       "      <td>https://images.gr-assets.com/books/1474154022m...</td>\n",
       "      <td>https://images.gr-assets.com/books/1474154022s...</td>\n",
       "    </tr>\n",
       "    <tr>\n",
       "      <th>2</th>\n",
       "      <td>3</td>\n",
       "      <td>41865</td>\n",
       "      <td>41865</td>\n",
       "      <td>3212258</td>\n",
       "      <td>226</td>\n",
       "      <td>316015849</td>\n",
       "      <td>9.780316e+12</td>\n",
       "      <td>Stephenie Meyer</td>\n",
       "      <td>2005.0</td>\n",
       "      <td>Twilight</td>\n",
       "      <td>...</td>\n",
       "      <td>3866839</td>\n",
       "      <td>3916824</td>\n",
       "      <td>95009</td>\n",
       "      <td>456191</td>\n",
       "      <td>436802</td>\n",
       "      <td>793319</td>\n",
       "      <td>875073</td>\n",
       "      <td>1355439</td>\n",
       "      <td>https://images.gr-assets.com/books/1361039443m...</td>\n",
       "      <td>https://images.gr-assets.com/books/1361039443s...</td>\n",
       "    </tr>\n",
       "    <tr>\n",
       "      <th>3</th>\n",
       "      <td>4</td>\n",
       "      <td>2657</td>\n",
       "      <td>2657</td>\n",
       "      <td>3275794</td>\n",
       "      <td>487</td>\n",
       "      <td>61120081</td>\n",
       "      <td>9.780061e+12</td>\n",
       "      <td>Harper Lee</td>\n",
       "      <td>1960.0</td>\n",
       "      <td>To Kill a Mockingbird</td>\n",
       "      <td>...</td>\n",
       "      <td>3198671</td>\n",
       "      <td>3340896</td>\n",
       "      <td>72586</td>\n",
       "      <td>60427</td>\n",
       "      <td>117415</td>\n",
       "      <td>446835</td>\n",
       "      <td>1001952</td>\n",
       "      <td>1714267</td>\n",
       "      <td>https://images.gr-assets.com/books/1361975680m...</td>\n",
       "      <td>https://images.gr-assets.com/books/1361975680s...</td>\n",
       "    </tr>\n",
       "    <tr>\n",
       "      <th>4</th>\n",
       "      <td>5</td>\n",
       "      <td>4671</td>\n",
       "      <td>4671</td>\n",
       "      <td>245494</td>\n",
       "      <td>1356</td>\n",
       "      <td>743273567</td>\n",
       "      <td>9.780743e+12</td>\n",
       "      <td>F. Scott Fitzgerald</td>\n",
       "      <td>1925.0</td>\n",
       "      <td>The Great Gatsby</td>\n",
       "      <td>...</td>\n",
       "      <td>2683664</td>\n",
       "      <td>2773745</td>\n",
       "      <td>51992</td>\n",
       "      <td>86236</td>\n",
       "      <td>197621</td>\n",
       "      <td>606158</td>\n",
       "      <td>936012</td>\n",
       "      <td>947718</td>\n",
       "      <td>https://images.gr-assets.com/books/1490528560m...</td>\n",
       "      <td>https://images.gr-assets.com/books/1490528560s...</td>\n",
       "    </tr>\n",
       "  </tbody>\n",
       "</table>\n",
       "<p>5 rows × 23 columns</p>\n",
       "</div>"
      ],
      "text/plain": [
       "   book_id  goodreads_book_id  best_book_id  work_id  books_count       isbn  \\\n",
       "0        1            2767052       2767052  2792775          272  439023483   \n",
       "1        2                  3             3  4640799          491  439554934   \n",
       "2        3              41865         41865  3212258          226  316015849   \n",
       "3        4               2657          2657  3275794          487   61120081   \n",
       "4        5               4671          4671   245494         1356  743273567   \n",
       "\n",
       "         isbn13                      authors  original_publication_year  \\\n",
       "0  9.780439e+12              Suzanne Collins                     2008.0   \n",
       "1  9.780440e+12  J.K. Rowling, Mary GrandPré                     1997.0   \n",
       "2  9.780316e+12              Stephenie Meyer                     2005.0   \n",
       "3  9.780061e+12                   Harper Lee                     1960.0   \n",
       "4  9.780743e+12          F. Scott Fitzgerald                     1925.0   \n",
       "\n",
       "                             original_title  ... ratings_count  \\\n",
       "0                          The Hunger Games  ...       4780653   \n",
       "1  Harry Potter and the Philosopher's Stone  ...       4602479   \n",
       "2                                  Twilight  ...       3866839   \n",
       "3                     To Kill a Mockingbird  ...       3198671   \n",
       "4                          The Great Gatsby  ...       2683664   \n",
       "\n",
       "  work_ratings_count  work_text_reviews_count  ratings_1  ratings_2  \\\n",
       "0            4942365                   155254      66715     127936   \n",
       "1            4800065                    75867      75504     101676   \n",
       "2            3916824                    95009     456191     436802   \n",
       "3            3340896                    72586      60427     117415   \n",
       "4            2773745                    51992      86236     197621   \n",
       "\n",
       "   ratings_3  ratings_4  ratings_5  \\\n",
       "0     560092    1481305    2706317   \n",
       "1     455024    1156318    3011543   \n",
       "2     793319     875073    1355439   \n",
       "3     446835    1001952    1714267   \n",
       "4     606158     936012     947718   \n",
       "\n",
       "                                           image_url  \\\n",
       "0  https://images.gr-assets.com/books/1447303603m...   \n",
       "1  https://images.gr-assets.com/books/1474154022m...   \n",
       "2  https://images.gr-assets.com/books/1361039443m...   \n",
       "3  https://images.gr-assets.com/books/1361975680m...   \n",
       "4  https://images.gr-assets.com/books/1490528560m...   \n",
       "\n",
       "                                     small_image_url  \n",
       "0  https://images.gr-assets.com/books/1447303603s...  \n",
       "1  https://images.gr-assets.com/books/1474154022s...  \n",
       "2  https://images.gr-assets.com/books/1361039443s...  \n",
       "3  https://images.gr-assets.com/books/1361975680s...  \n",
       "4  https://images.gr-assets.com/books/1490528560s...  \n",
       "\n",
       "[5 rows x 23 columns]"
      ]
     },
     "execution_count": 111,
     "metadata": {},
     "output_type": "execute_result"
    }
   ],
   "source": [
    "books_df.head()"
   ]
  },
  {
   "cell_type": "code",
   "execution_count": 112,
   "metadata": {
    "scrolled": true
   },
   "outputs": [
    {
     "name": "stdout",
     "output_type": "stream",
     "text": [
      "<class 'pandas.core.frame.DataFrame'>\n",
      "RangeIndex: 10000 entries, 0 to 9999\n",
      "Data columns (total 23 columns):\n",
      "book_id                      10000 non-null int64\n",
      "goodreads_book_id            10000 non-null int64\n",
      "best_book_id                 10000 non-null int64\n",
      "work_id                      10000 non-null int64\n",
      "books_count                  10000 non-null int64\n",
      "isbn                         9300 non-null object\n",
      "isbn13                       9415 non-null float64\n",
      "authors                      10000 non-null object\n",
      "original_publication_year    9979 non-null float64\n",
      "original_title               9415 non-null object\n",
      "title                        10000 non-null object\n",
      "language_code                8916 non-null object\n",
      "average_rating               10000 non-null float64\n",
      "ratings_count                10000 non-null int64\n",
      "work_ratings_count           10000 non-null int64\n",
      "work_text_reviews_count      10000 non-null int64\n",
      "ratings_1                    10000 non-null int64\n",
      "ratings_2                    10000 non-null int64\n",
      "ratings_3                    10000 non-null int64\n",
      "ratings_4                    10000 non-null int64\n",
      "ratings_5                    10000 non-null int64\n",
      "image_url                    10000 non-null object\n",
      "small_image_url              10000 non-null object\n",
      "dtypes: float64(3), int64(13), object(7)\n",
      "memory usage: 1.8+ MB\n"
     ]
    }
   ],
   "source": [
    "books_df.info()"
   ]
  },
  {
   "cell_type": "code",
   "execution_count": 113,
   "metadata": {},
   "outputs": [],
   "source": [
    "# Relevant columns of books_df to print\n",
    "reduced_cols = ['authors',\n",
    "                'original_publication_year',\n",
    "                'title',\n",
    "                'language_code',\n",
    "                'average_rating',\n",
    "                'ratings_count',\n",
    "                'work_ratings_count',\n",
    "                'work_text_reviews_count']"
   ]
  },
  {
   "cell_type": "code",
   "execution_count": 114,
   "metadata": {},
   "outputs": [
    {
     "data": {
      "text/plain": [
       "count    9979.000000\n",
       "mean     1981.987674\n",
       "std       152.576665\n",
       "min     -1750.000000\n",
       "25%      1990.000000\n",
       "50%      2004.000000\n",
       "75%      2011.000000\n",
       "max      2017.000000\n",
       "Name: original_publication_year, dtype: float64"
      ]
     },
     "execution_count": 114,
     "metadata": {},
     "output_type": "execute_result"
    }
   ],
   "source": [
    "books_df['original_publication_year'].describe()"
   ]
  },
  {
   "cell_type": "markdown",
   "metadata": {},
   "source": [
    "There is some effect of `ratings_count` on `average_rating` – more popular books are better rated."
   ]
  },
  {
   "cell_type": "code",
   "execution_count": 115,
   "metadata": {},
   "outputs": [
    {
     "data": {
      "image/png": "[encoded data removed]",
      "text/plain": [
       "<Figure size 576x576 with 1 Axes>"
      ]
     },
     "metadata": {},
     "output_type": "display_data"
    }
   ],
   "source": [
    "sns.set(style=\"darkgrid\")\n",
    "sns.lmplot(x='ratings_count',\n",
    "           y='average_rating',\n",
    "           data=books_df,\n",
    "           height=8,\n",
    "           scatter_kws={'alpha':0.3}\n",
    "           )\n",
    "plt.title('Average Rating by Ratings Count')\n",
    "plt.show()"
   ]
  },
  {
   "cell_type": "code",
   "execution_count": 116,
   "metadata": {},
   "outputs": [
    {
     "data": {
      "image/png": "[encoded data removed]",
      "text/plain": [
       "<Figure size 576x576 with 1 Axes>"
      ]
     },
     "metadata": {},
     "output_type": "display_data"
    }
   ],
   "source": [
    "sns.lmplot(x='work_text_reviews_count',\n",
    "           y='average_rating',\n",
    "           data=books_df,\n",
    "           height=8,\n",
    "           scatter_kws={'alpha':0.3}\n",
    "           )\n",
    "plt.title('Average Rating by Reviews Count')\n",
    "plt.show()"
   ]
  },
  {
   "cell_type": "markdown",
   "metadata": {},
   "source": [
    "The number of reviews does not have a significant effect on `average_rating`."
   ]
  },
  {
   "cell_type": "code",
   "execution_count": 117,
   "metadata": {},
   "outputs": [
    {
     "data": {
      "image/png": "[encoded data removed]",
      "text/plain": [
       "<Figure size 576x576 with 1 Axes>"
      ]
     },
     "metadata": {},
     "output_type": "display_data"
    }
   ],
   "source": [
    "sns.lmplot(x='original_publication_year',\n",
    "               y='average_rating',\n",
    "               data=books_df,\n",
    "               height=8,\n",
    "               scatter_kws={'alpha':0.3}\n",
    "           )\n",
    "plt.title('Average Rating by Publication Year')\n",
    "plt.show()"
   ]
  },
  {
   "cell_type": "markdown",
   "metadata": {},
   "source": [
    "The effect of `original_publication_year` on `average_rating` is not significant. Note negative values are books published 1 BCE or earlier."
   ]
  },
  {
   "cell_type": "code",
   "execution_count": 118,
   "metadata": {
    "scrolled": true
   },
   "outputs": [
    {
     "data": {
      "text/html": [
       "<div>\n",
       "<style scoped>\n",
       "    .dataframe tbody tr th:only-of-type {\n",
       "        vertical-align: middle;\n",
       "    }\n",
       "\n",
       "    .dataframe tbody tr th {\n",
       "        vertical-align: top;\n",
       "    }\n",
       "\n",
       "    .dataframe thead th {\n",
       "        text-align: right;\n",
       "    }\n",
       "</style>\n",
       "<table border=\"1\" class=\"dataframe\">\n",
       "  <thead>\n",
       "    <tr style=\"text-align: right;\">\n",
       "      <th></th>\n",
       "      <th>authors</th>\n",
       "      <th>original_publication_year</th>\n",
       "      <th>title</th>\n",
       "      <th>language_code</th>\n",
       "      <th>average_rating</th>\n",
       "      <th>ratings_count</th>\n",
       "      <th>work_ratings_count</th>\n",
       "      <th>work_text_reviews_count</th>\n",
       "    </tr>\n",
       "  </thead>\n",
       "  <tbody>\n",
       "    <tr>\n",
       "      <th>2075</th>\n",
       "      <td>Anonymous, N.K. Sandars</td>\n",
       "      <td>-1750.0</td>\n",
       "      <td>The Epic of Gilgamesh</td>\n",
       "      <td>eng</td>\n",
       "      <td>3.63</td>\n",
       "      <td>44345</td>\n",
       "      <td>55856</td>\n",
       "      <td>2247</td>\n",
       "    </tr>\n",
       "    <tr>\n",
       "      <th>823</th>\n",
       "      <td>Sophocles, J.E. Thomas</td>\n",
       "      <td>-430.0</td>\n",
       "      <td>Oedipus Rex  (The Theban Plays, #1)</td>\n",
       "      <td>eng</td>\n",
       "      <td>3.67</td>\n",
       "      <td>119496</td>\n",
       "      <td>134384</td>\n",
       "      <td>2129</td>\n",
       "    </tr>\n",
       "    <tr>\n",
       "      <th>3948</th>\n",
       "      <td>Aristotle</td>\n",
       "      <td>-350.0</td>\n",
       "      <td>Politics</td>\n",
       "      <td>eng</td>\n",
       "      <td>3.91</td>\n",
       "      <td>22128</td>\n",
       "      <td>24041</td>\n",
       "      <td>289</td>\n",
       "    </tr>\n",
       "    <tr>\n",
       "      <th>402</th>\n",
       "      <td>Sun Tzu, Thomas Cleary</td>\n",
       "      <td>-500.0</td>\n",
       "      <td>The Art of War</td>\n",
       "      <td>eng</td>\n",
       "      <td>3.95</td>\n",
       "      <td>167332</td>\n",
       "      <td>203948</td>\n",
       "      <td>6335</td>\n",
       "    </tr>\n",
       "    <tr>\n",
       "      <th>3403</th>\n",
       "      <td>Herodotus, Aubrey de Sélincourt, John M. Marin...</td>\n",
       "      <td>-440.0</td>\n",
       "      <td>The Histories</td>\n",
       "      <td>eng</td>\n",
       "      <td>3.97</td>\n",
       "      <td>28870</td>\n",
       "      <td>31985</td>\n",
       "      <td>864</td>\n",
       "    </tr>\n",
       "  </tbody>\n",
       "</table>\n",
       "</div>"
      ],
      "text/plain": [
       "                                                authors  \\\n",
       "2075                            Anonymous, N.K. Sandars   \n",
       "823                              Sophocles, J.E. Thomas   \n",
       "3948                                          Aristotle   \n",
       "402                              Sun Tzu, Thomas Cleary   \n",
       "3403  Herodotus, Aubrey de Sélincourt, John M. Marin...   \n",
       "\n",
       "      original_publication_year                                title  \\\n",
       "2075                    -1750.0                The Epic of Gilgamesh   \n",
       "823                      -430.0  Oedipus Rex  (The Theban Plays, #1)   \n",
       "3948                     -350.0                             Politics   \n",
       "402                      -500.0                       The Art of War   \n",
       "3403                     -440.0                        The Histories   \n",
       "\n",
       "     language_code  average_rating  ratings_count  work_ratings_count  \\\n",
       "2075           eng            3.63          44345               55856   \n",
       "823            eng            3.67         119496              134384   \n",
       "3948           eng            3.91          22128               24041   \n",
       "402            eng            3.95         167332              203948   \n",
       "3403           eng            3.97          28870               31985   \n",
       "\n",
       "      work_text_reviews_count  \n",
       "2075                     2247  \n",
       "823                      2129  \n",
       "3948                      289  \n",
       "402                      6335  \n",
       "3403                      864  "
      ]
     },
     "execution_count": 118,
     "metadata": {},
     "output_type": "execute_result"
    }
   ],
   "source": [
    "books_df[books_df['original_publication_year'] < 0].sample(5)[reduced_cols]"
   ]
  },
  {
   "cell_type": "markdown",
   "metadata": {},
   "source": [
    "### Top 10"
   ]
  },
  {
   "cell_type": "markdown",
   "metadata": {},
   "source": [
    "#### Most Rated Books"
   ]
  },
  {
   "cell_type": "markdown",
   "metadata": {},
   "source": [
    "We'll use `work_ratings_count`, which are ratings for *all* editions, while `ratings_count` is for the particular popular edition."
   ]
  },
  {
   "cell_type": "code",
   "execution_count": 119,
   "metadata": {
    "scrolled": true
   },
   "outputs": [
    {
     "data": {
      "text/html": [
       "<div>\n",
       "<style scoped>\n",
       "    .dataframe tbody tr th:only-of-type {\n",
       "        vertical-align: middle;\n",
       "    }\n",
       "\n",
       "    .dataframe tbody tr th {\n",
       "        vertical-align: top;\n",
       "    }\n",
       "\n",
       "    .dataframe thead th {\n",
       "        text-align: right;\n",
       "    }\n",
       "</style>\n",
       "<table border=\"1\" class=\"dataframe\">\n",
       "  <thead>\n",
       "    <tr style=\"text-align: right;\">\n",
       "      <th></th>\n",
       "      <th>authors</th>\n",
       "      <th>original_publication_year</th>\n",
       "      <th>title</th>\n",
       "      <th>language_code</th>\n",
       "      <th>average_rating</th>\n",
       "      <th>ratings_count</th>\n",
       "      <th>work_ratings_count</th>\n",
       "      <th>work_text_reviews_count</th>\n",
       "    </tr>\n",
       "  </thead>\n",
       "  <tbody>\n",
       "    <tr>\n",
       "      <th>0</th>\n",
       "      <td>Suzanne Collins</td>\n",
       "      <td>2008.0</td>\n",
       "      <td>The Hunger Games (The Hunger Games, #1)</td>\n",
       "      <td>eng</td>\n",
       "      <td>4.34</td>\n",
       "      <td>4780653</td>\n",
       "      <td>4942365</td>\n",
       "      <td>155254</td>\n",
       "    </tr>\n",
       "    <tr>\n",
       "      <th>1</th>\n",
       "      <td>J.K. Rowling, Mary GrandPré</td>\n",
       "      <td>1997.0</td>\n",
       "      <td>Harry Potter and the Sorcerer's Stone (Harry P...</td>\n",
       "      <td>eng</td>\n",
       "      <td>4.44</td>\n",
       "      <td>4602479</td>\n",
       "      <td>4800065</td>\n",
       "      <td>75867</td>\n",
       "    </tr>\n",
       "    <tr>\n",
       "      <th>2</th>\n",
       "      <td>Stephenie Meyer</td>\n",
       "      <td>2005.0</td>\n",
       "      <td>Twilight (Twilight, #1)</td>\n",
       "      <td>en-US</td>\n",
       "      <td>3.57</td>\n",
       "      <td>3866839</td>\n",
       "      <td>3916824</td>\n",
       "      <td>95009</td>\n",
       "    </tr>\n",
       "    <tr>\n",
       "      <th>3</th>\n",
       "      <td>Harper Lee</td>\n",
       "      <td>1960.0</td>\n",
       "      <td>To Kill a Mockingbird</td>\n",
       "      <td>eng</td>\n",
       "      <td>4.25</td>\n",
       "      <td>3198671</td>\n",
       "      <td>3340896</td>\n",
       "      <td>72586</td>\n",
       "    </tr>\n",
       "    <tr>\n",
       "      <th>4</th>\n",
       "      <td>F. Scott Fitzgerald</td>\n",
       "      <td>1925.0</td>\n",
       "      <td>The Great Gatsby</td>\n",
       "      <td>eng</td>\n",
       "      <td>3.89</td>\n",
       "      <td>2683664</td>\n",
       "      <td>2773745</td>\n",
       "      <td>51992</td>\n",
       "    </tr>\n",
       "    <tr>\n",
       "      <th>5</th>\n",
       "      <td>John Green</td>\n",
       "      <td>2012.0</td>\n",
       "      <td>The Fault in Our Stars</td>\n",
       "      <td>eng</td>\n",
       "      <td>4.26</td>\n",
       "      <td>2346404</td>\n",
       "      <td>2478609</td>\n",
       "      <td>140739</td>\n",
       "    </tr>\n",
       "    <tr>\n",
       "      <th>11</th>\n",
       "      <td>Veronica Roth</td>\n",
       "      <td>2011.0</td>\n",
       "      <td>Divergent (Divergent, #1)</td>\n",
       "      <td>eng</td>\n",
       "      <td>4.24</td>\n",
       "      <td>1903563</td>\n",
       "      <td>2216814</td>\n",
       "      <td>101023</td>\n",
       "    </tr>\n",
       "    <tr>\n",
       "      <th>6</th>\n",
       "      <td>J.R.R. Tolkien</td>\n",
       "      <td>1937.0</td>\n",
       "      <td>The Hobbit</td>\n",
       "      <td>en-US</td>\n",
       "      <td>4.25</td>\n",
       "      <td>2071616</td>\n",
       "      <td>2196809</td>\n",
       "      <td>37653</td>\n",
       "    </tr>\n",
       "    <tr>\n",
       "      <th>9</th>\n",
       "      <td>Jane Austen</td>\n",
       "      <td>1813.0</td>\n",
       "      <td>Pride and Prejudice</td>\n",
       "      <td>eng</td>\n",
       "      <td>4.24</td>\n",
       "      <td>2035490</td>\n",
       "      <td>2191465</td>\n",
       "      <td>49152</td>\n",
       "    </tr>\n",
       "    <tr>\n",
       "      <th>7</th>\n",
       "      <td>J.D. Salinger</td>\n",
       "      <td>1951.0</td>\n",
       "      <td>The Catcher in the Rye</td>\n",
       "      <td>eng</td>\n",
       "      <td>3.79</td>\n",
       "      <td>2044241</td>\n",
       "      <td>2120637</td>\n",
       "      <td>44920</td>\n",
       "    </tr>\n",
       "  </tbody>\n",
       "</table>\n",
       "</div>"
      ],
      "text/plain": [
       "                        authors  original_publication_year  \\\n",
       "0               Suzanne Collins                     2008.0   \n",
       "1   J.K. Rowling, Mary GrandPré                     1997.0   \n",
       "2               Stephenie Meyer                     2005.0   \n",
       "3                    Harper Lee                     1960.0   \n",
       "4           F. Scott Fitzgerald                     1925.0   \n",
       "5                    John Green                     2012.0   \n",
       "11                Veronica Roth                     2011.0   \n",
       "6                J.R.R. Tolkien                     1937.0   \n",
       "9                   Jane Austen                     1813.0   \n",
       "7                 J.D. Salinger                     1951.0   \n",
       "\n",
       "                                                title language_code  \\\n",
       "0             The Hunger Games (The Hunger Games, #1)           eng   \n",
       "1   Harry Potter and the Sorcerer's Stone (Harry P...           eng   \n",
       "2                             Twilight (Twilight, #1)         en-US   \n",
       "3                               To Kill a Mockingbird           eng   \n",
       "4                                    The Great Gatsby           eng   \n",
       "5                              The Fault in Our Stars           eng   \n",
       "11                          Divergent (Divergent, #1)           eng   \n",
       "6                                          The Hobbit         en-US   \n",
       "9                                 Pride and Prejudice           eng   \n",
       "7                              The Catcher in the Rye           eng   \n",
       "\n",
       "    average_rating  ratings_count  work_ratings_count  work_text_reviews_count  \n",
       "0             4.34        4780653             4942365                   155254  \n",
       "1             4.44        4602479             4800065                    75867  \n",
       "2             3.57        3866839             3916824                    95009  \n",
       "3             4.25        3198671             3340896                    72586  \n",
       "4             3.89        2683664             2773745                    51992  \n",
       "5             4.26        2346404             2478609                   140739  \n",
       "11            4.24        1903563             2216814                   101023  \n",
       "6             4.25        2071616             2196809                    37653  \n",
       "9             4.24        2035490             2191465                    49152  \n",
       "7             3.79        2044241             2120637                    44920  "
      ]
     },
     "execution_count": 119,
     "metadata": {},
     "output_type": "execute_result"
    }
   ],
   "source": [
    "books_df.sort_values(by='work_ratings_count', ascending=False).head(10)[reduced_cols]"
   ]
  },
  {
   "cell_type": "markdown",
   "metadata": {},
   "source": [
    "#### Most Highly-Rated Books"
   ]
  },
  {
   "cell_type": "markdown",
   "metadata": {},
   "source": [
    "Calvin & Hobbes and Harry Potter dominate the ratings."
   ]
  },
  {
   "cell_type": "code",
   "execution_count": 120,
   "metadata": {},
   "outputs": [
    {
     "data": {
      "text/html": [
       "<div>\n",
       "<style scoped>\n",
       "    .dataframe tbody tr th:only-of-type {\n",
       "        vertical-align: middle;\n",
       "    }\n",
       "\n",
       "    .dataframe tbody tr th {\n",
       "        vertical-align: top;\n",
       "    }\n",
       "\n",
       "    .dataframe thead th {\n",
       "        text-align: right;\n",
       "    }\n",
       "</style>\n",
       "<table border=\"1\" class=\"dataframe\">\n",
       "  <thead>\n",
       "    <tr style=\"text-align: right;\">\n",
       "      <th></th>\n",
       "      <th>authors</th>\n",
       "      <th>original_publication_year</th>\n",
       "      <th>title</th>\n",
       "      <th>language_code</th>\n",
       "      <th>average_rating</th>\n",
       "      <th>ratings_count</th>\n",
       "      <th>work_ratings_count</th>\n",
       "      <th>work_text_reviews_count</th>\n",
       "    </tr>\n",
       "  </thead>\n",
       "  <tbody>\n",
       "    <tr>\n",
       "      <th>3627</th>\n",
       "      <td>Bill Watterson</td>\n",
       "      <td>2005.0</td>\n",
       "      <td>The Complete Calvin and Hobbes</td>\n",
       "      <td>eng</td>\n",
       "      <td>4.82</td>\n",
       "      <td>28900</td>\n",
       "      <td>29968</td>\n",
       "      <td>861</td>\n",
       "    </tr>\n",
       "    <tr>\n",
       "      <th>3274</th>\n",
       "      <td>J.K. Rowling, Mary GrandPré</td>\n",
       "      <td>2003.0</td>\n",
       "      <td>Harry Potter Boxed Set, Books 1-5 (Harry Potte...</td>\n",
       "      <td>eng</td>\n",
       "      <td>4.77</td>\n",
       "      <td>33220</td>\n",
       "      <td>33424</td>\n",
       "      <td>156</td>\n",
       "    </tr>\n",
       "    <tr>\n",
       "      <th>861</th>\n",
       "      <td>Brandon Sanderson</td>\n",
       "      <td>2014.0</td>\n",
       "      <td>Words of Radiance (The Stormlight Archive, #2)</td>\n",
       "      <td>eng</td>\n",
       "      <td>4.77</td>\n",
       "      <td>73572</td>\n",
       "      <td>108176</td>\n",
       "      <td>7261</td>\n",
       "    </tr>\n",
       "    <tr>\n",
       "      <th>8853</th>\n",
       "      <td>Francine Rivers</td>\n",
       "      <td>1993.0</td>\n",
       "      <td>Mark of the Lion Trilogy</td>\n",
       "      <td>en-US</td>\n",
       "      <td>4.76</td>\n",
       "      <td>9081</td>\n",
       "      <td>9547</td>\n",
       "      <td>731</td>\n",
       "    </tr>\n",
       "    <tr>\n",
       "      <th>7946</th>\n",
       "      <td>Anonymous, Lane T. Dennis, Wayne A. Grudem</td>\n",
       "      <td>2002.0</td>\n",
       "      <td>ESV Study Bible</td>\n",
       "      <td>eng</td>\n",
       "      <td>4.76</td>\n",
       "      <td>8953</td>\n",
       "      <td>10784</td>\n",
       "      <td>262</td>\n",
       "    </tr>\n",
       "    <tr>\n",
       "      <th>4482</th>\n",
       "      <td>Bill Watterson</td>\n",
       "      <td>1996.0</td>\n",
       "      <td>It's a Magical World: A Calvin and Hobbes Coll...</td>\n",
       "      <td>eng</td>\n",
       "      <td>4.75</td>\n",
       "      <td>22351</td>\n",
       "      <td>23429</td>\n",
       "      <td>264</td>\n",
       "    </tr>\n",
       "    <tr>\n",
       "      <th>6360</th>\n",
       "      <td>Bill Watterson</td>\n",
       "      <td>1996.0</td>\n",
       "      <td>There's Treasure Everywhere: A Calvin and Hobb...</td>\n",
       "      <td>eng</td>\n",
       "      <td>4.74</td>\n",
       "      <td>16766</td>\n",
       "      <td>17285</td>\n",
       "      <td>149</td>\n",
       "    </tr>\n",
       "    <tr>\n",
       "      <th>421</th>\n",
       "      <td>J.K. Rowling</td>\n",
       "      <td>1998.0</td>\n",
       "      <td>Harry Potter Boxset (Harry Potter, #1-7)</td>\n",
       "      <td>eng</td>\n",
       "      <td>4.74</td>\n",
       "      <td>190050</td>\n",
       "      <td>204125</td>\n",
       "      <td>6508</td>\n",
       "    </tr>\n",
       "    <tr>\n",
       "      <th>3752</th>\n",
       "      <td>J.K. Rowling</td>\n",
       "      <td>2005.0</td>\n",
       "      <td>Harry Potter Collection (Harry Potter, #1-6)</td>\n",
       "      <td>eng</td>\n",
       "      <td>4.73</td>\n",
       "      <td>24618</td>\n",
       "      <td>26274</td>\n",
       "      <td>882</td>\n",
       "    </tr>\n",
       "    <tr>\n",
       "      <th>6919</th>\n",
       "      <td>Bill Watterson</td>\n",
       "      <td>1992.0</td>\n",
       "      <td>The Indispensable Calvin and Hobbes</td>\n",
       "      <td>eng</td>\n",
       "      <td>4.73</td>\n",
       "      <td>14597</td>\n",
       "      <td>16911</td>\n",
       "      <td>325</td>\n",
       "    </tr>\n",
       "  </tbody>\n",
       "</table>\n",
       "</div>"
      ],
      "text/plain": [
       "                                         authors  original_publication_year  \\\n",
       "3627                              Bill Watterson                     2005.0   \n",
       "3274                 J.K. Rowling, Mary GrandPré                     2003.0   \n",
       "861                            Brandon Sanderson                     2014.0   \n",
       "8853                             Francine Rivers                     1993.0   \n",
       "7946  Anonymous, Lane T. Dennis, Wayne A. Grudem                     2002.0   \n",
       "4482                              Bill Watterson                     1996.0   \n",
       "6360                              Bill Watterson                     1996.0   \n",
       "421                                 J.K. Rowling                     1998.0   \n",
       "3752                                J.K. Rowling                     2005.0   \n",
       "6919                              Bill Watterson                     1992.0   \n",
       "\n",
       "                                                  title language_code  \\\n",
       "3627                     The Complete Calvin and Hobbes           eng   \n",
       "3274  Harry Potter Boxed Set, Books 1-5 (Harry Potte...           eng   \n",
       "861      Words of Radiance (The Stormlight Archive, #2)           eng   \n",
       "8853                           Mark of the Lion Trilogy         en-US   \n",
       "7946                                    ESV Study Bible           eng   \n",
       "4482  It's a Magical World: A Calvin and Hobbes Coll...           eng   \n",
       "6360  There's Treasure Everywhere: A Calvin and Hobb...           eng   \n",
       "421            Harry Potter Boxset (Harry Potter, #1-7)           eng   \n",
       "3752       Harry Potter Collection (Harry Potter, #1-6)           eng   \n",
       "6919                The Indispensable Calvin and Hobbes           eng   \n",
       "\n",
       "      average_rating  ratings_count  work_ratings_count  \\\n",
       "3627            4.82          28900               29968   \n",
       "3274            4.77          33220               33424   \n",
       "861             4.77          73572              108176   \n",
       "8853            4.76           9081                9547   \n",
       "7946            4.76           8953               10784   \n",
       "4482            4.75          22351               23429   \n",
       "6360            4.74          16766               17285   \n",
       "421             4.74         190050              204125   \n",
       "3752            4.73          24618               26274   \n",
       "6919            4.73          14597               16911   \n",
       "\n",
       "      work_text_reviews_count  \n",
       "3627                      861  \n",
       "3274                      156  \n",
       "861                      7261  \n",
       "8853                      731  \n",
       "7946                      262  \n",
       "4482                      264  \n",
       "6360                      149  \n",
       "421                      6508  \n",
       "3752                      882  \n",
       "6919                      325  "
      ]
     },
     "execution_count": 120,
     "metadata": {},
     "output_type": "execute_result"
    }
   ],
   "source": [
    "books_df.sort_values(by='average_rating', ascending=False).head(10)[reduced_cols]"
   ]
  },
  {
   "cell_type": "markdown",
   "metadata": {},
   "source": [
    "#### Oldest"
   ]
  },
  {
   "cell_type": "code",
   "execution_count": 121,
   "metadata": {},
   "outputs": [
    {
     "data": {
      "text/html": [
       "<div>\n",
       "<style scoped>\n",
       "    .dataframe tbody tr th:only-of-type {\n",
       "        vertical-align: middle;\n",
       "    }\n",
       "\n",
       "    .dataframe tbody tr th {\n",
       "        vertical-align: top;\n",
       "    }\n",
       "\n",
       "    .dataframe thead th {\n",
       "        text-align: right;\n",
       "    }\n",
       "</style>\n",
       "<table border=\"1\" class=\"dataframe\">\n",
       "  <thead>\n",
       "    <tr style=\"text-align: right;\">\n",
       "      <th></th>\n",
       "      <th>authors</th>\n",
       "      <th>original_publication_year</th>\n",
       "      <th>title</th>\n",
       "      <th>language_code</th>\n",
       "      <th>average_rating</th>\n",
       "      <th>ratings_count</th>\n",
       "      <th>work_ratings_count</th>\n",
       "      <th>work_text_reviews_count</th>\n",
       "    </tr>\n",
       "  </thead>\n",
       "  <tbody>\n",
       "    <tr>\n",
       "      <th>2075</th>\n",
       "      <td>Anonymous, N.K. Sandars</td>\n",
       "      <td>-1750.0</td>\n",
       "      <td>The Epic of Gilgamesh</td>\n",
       "      <td>eng</td>\n",
       "      <td>3.63</td>\n",
       "      <td>44345</td>\n",
       "      <td>55856</td>\n",
       "      <td>2247</td>\n",
       "    </tr>\n",
       "    <tr>\n",
       "      <th>2141</th>\n",
       "      <td>Homer, Robert Fagles, Bernard Knox</td>\n",
       "      <td>-762.0</td>\n",
       "      <td>The Iliad/The Odyssey</td>\n",
       "      <td>eng</td>\n",
       "      <td>4.03</td>\n",
       "      <td>47825</td>\n",
       "      <td>51098</td>\n",
       "      <td>537</td>\n",
       "    </tr>\n",
       "    <tr>\n",
       "      <th>340</th>\n",
       "      <td>Homer, Robert Fagles, Frédéric Mugler, Bernard...</td>\n",
       "      <td>-750.0</td>\n",
       "      <td>The Iliad</td>\n",
       "      <td>eng</td>\n",
       "      <td>3.83</td>\n",
       "      <td>241088</td>\n",
       "      <td>273565</td>\n",
       "      <td>4763</td>\n",
       "    </tr>\n",
       "    <tr>\n",
       "      <th>6165</th>\n",
       "      <td>Anonymous, Richard Wilhelm, Cary F. Baynes, C....</td>\n",
       "      <td>-750.0</td>\n",
       "      <td>The I Ching or Book of Changes</td>\n",
       "      <td>eng</td>\n",
       "      <td>4.18</td>\n",
       "      <td>12781</td>\n",
       "      <td>14700</td>\n",
       "      <td>275</td>\n",
       "    </tr>\n",
       "    <tr>\n",
       "      <th>78</th>\n",
       "      <td>Homer, Robert Fagles, E.V. Rieu, Frédéric Mugl...</td>\n",
       "      <td>-720.0</td>\n",
       "      <td>The Odyssey</td>\n",
       "      <td>eng</td>\n",
       "      <td>3.73</td>\n",
       "      <td>670326</td>\n",
       "      <td>710757</td>\n",
       "      <td>8101</td>\n",
       "    </tr>\n",
       "    <tr>\n",
       "      <th>1119</th>\n",
       "      <td>Aesop, Laura Harris, Laura Gibbs</td>\n",
       "      <td>-560.0</td>\n",
       "      <td>Aesop's Fables</td>\n",
       "      <td>eng</td>\n",
       "      <td>4.05</td>\n",
       "      <td>88508</td>\n",
       "      <td>98962</td>\n",
       "      <td>1441</td>\n",
       "    </tr>\n",
       "    <tr>\n",
       "      <th>9678</th>\n",
       "      <td>Anonymous, Juan Mascaró</td>\n",
       "      <td>-500.0</td>\n",
       "      <td>The Upanishads: Translations from the Sanskrit</td>\n",
       "      <td>eng</td>\n",
       "      <td>4.20</td>\n",
       "      <td>7365</td>\n",
       "      <td>9667</td>\n",
       "      <td>258</td>\n",
       "    </tr>\n",
       "    <tr>\n",
       "      <th>402</th>\n",
       "      <td>Sun Tzu, Thomas Cleary</td>\n",
       "      <td>-500.0</td>\n",
       "      <td>The Art of War</td>\n",
       "      <td>eng</td>\n",
       "      <td>3.95</td>\n",
       "      <td>167332</td>\n",
       "      <td>203948</td>\n",
       "      <td>6335</td>\n",
       "    </tr>\n",
       "    <tr>\n",
       "      <th>5636</th>\n",
       "      <td>Anonymous, Ananda Maitreya, Thich Nhat Hanh, B...</td>\n",
       "      <td>-500.0</td>\n",
       "      <td>The Dhammapada</td>\n",
       "      <td>eng</td>\n",
       "      <td>4.29</td>\n",
       "      <td>12639</td>\n",
       "      <td>17114</td>\n",
       "      <td>616</td>\n",
       "    </tr>\n",
       "    <tr>\n",
       "      <th>7777</th>\n",
       "      <td>Confucius, D.C. Lau</td>\n",
       "      <td>-476.0</td>\n",
       "      <td>The Analects</td>\n",
       "      <td>eng</td>\n",
       "      <td>3.82</td>\n",
       "      <td>9807</td>\n",
       "      <td>13227</td>\n",
       "      <td>468</td>\n",
       "    </tr>\n",
       "  </tbody>\n",
       "</table>\n",
       "</div>"
      ],
      "text/plain": [
       "                                                authors  \\\n",
       "2075                            Anonymous, N.K. Sandars   \n",
       "2141                 Homer, Robert Fagles, Bernard Knox   \n",
       "340   Homer, Robert Fagles, Frédéric Mugler, Bernard...   \n",
       "6165  Anonymous, Richard Wilhelm, Cary F. Baynes, C....   \n",
       "78    Homer, Robert Fagles, E.V. Rieu, Frédéric Mugl...   \n",
       "1119                   Aesop, Laura Harris, Laura Gibbs   \n",
       "9678                            Anonymous, Juan Mascaró   \n",
       "402                              Sun Tzu, Thomas Cleary   \n",
       "5636  Anonymous, Ananda Maitreya, Thich Nhat Hanh, B...   \n",
       "7777                                Confucius, D.C. Lau   \n",
       "\n",
       "      original_publication_year  \\\n",
       "2075                    -1750.0   \n",
       "2141                     -762.0   \n",
       "340                      -750.0   \n",
       "6165                     -750.0   \n",
       "78                       -720.0   \n",
       "1119                     -560.0   \n",
       "9678                     -500.0   \n",
       "402                      -500.0   \n",
       "5636                     -500.0   \n",
       "7777                     -476.0   \n",
       "\n",
       "                                               title language_code  \\\n",
       "2075                           The Epic of Gilgamesh           eng   \n",
       "2141                           The Iliad/The Odyssey           eng   \n",
       "340                                        The Iliad           eng   \n",
       "6165                  The I Ching or Book of Changes           eng   \n",
       "78                                       The Odyssey           eng   \n",
       "1119                                  Aesop's Fables           eng   \n",
       "9678  The Upanishads: Translations from the Sanskrit           eng   \n",
       "402                                   The Art of War           eng   \n",
       "5636                                  The Dhammapada           eng   \n",
       "7777                                    The Analects           eng   \n",
       "\n",
       "      average_rating  ratings_count  work_ratings_count  \\\n",
       "2075            3.63          44345               55856   \n",
       "2141            4.03          47825               51098   \n",
       "340             3.83         241088              273565   \n",
       "6165            4.18          12781               14700   \n",
       "78              3.73         670326              710757   \n",
       "1119            4.05          88508               98962   \n",
       "9678            4.20           7365                9667   \n",
       "402             3.95         167332              203948   \n",
       "5636            4.29          12639               17114   \n",
       "7777            3.82           9807               13227   \n",
       "\n",
       "      work_text_reviews_count  \n",
       "2075                     2247  \n",
       "2141                      537  \n",
       "340                      4763  \n",
       "6165                      275  \n",
       "78                       8101  \n",
       "1119                     1441  \n",
       "9678                      258  \n",
       "402                      6335  \n",
       "5636                      616  \n",
       "7777                      468  "
      ]
     },
     "execution_count": 121,
     "metadata": {},
     "output_type": "execute_result"
    }
   ],
   "source": [
    "books_df.sort_values(by='original_publication_year').head(10)[reduced_cols]"
   ]
  },
  {
   "cell_type": "markdown",
   "metadata": {},
   "source": [
    "#### Greatest and Least Ratings Ratio"
   ]
  },
  {
   "cell_type": "markdown",
   "metadata": {},
   "source": [
    "The ratings ratio is `work_text_reviews_count` divided by `work_ratings_count`. The majority of the most-commented-on books are romance novels."
   ]
  },
  {
   "cell_type": "code",
   "execution_count": 122,
   "metadata": {},
   "outputs": [],
   "source": [
    "books_df['ratings_ratio'] = (books_df['work_text_reviews_count']\n",
    "    .div(books_df['work_ratings_count']))"
   ]
  },
  {
   "cell_type": "code",
   "execution_count": 123,
   "metadata": {},
   "outputs": [],
   "source": [
    "reduced_cols.append('ratings_ratio')"
   ]
  },
  {
   "cell_type": "code",
   "execution_count": 160,
   "metadata": {},
   "outputs": [
    {
     "name": "stdout",
     "output_type": "stream",
     "text": [
      "\\begin{tabular}{lrllrrrrr}\n",
      "\\toprule\n",
      "                                  authors &  original\\_publication\\_year &                                      title & language\\_code &  average\\_rating &  ratings\\_count &  work\\_ratings\\_count &  work\\_text\\_reviews\\_count &  ratings\\_ratio \\\\\n",
      "\\midrule\n",
      " Cynthia Hand, Brodi Ashton, Jodi Meadows &                     2016.0 &         My Lady Jane (The Lady Janies, \\#1) &           eng &            4.12 &          12794 &               15433 &                     4228 &       0.273958 \\\\\n",
      "     Amie Kaufman, Jay Kristoff, Marie Lu &                     2016.0 &           Gemina (The Illuminae Files, \\#2) &           eng &            4.56 &          10960 &               17426 &                     4612 &       0.264662 \\\\\n",
      "               Amie Kaufman, Jay Kristoff &                     2015.0 &        Illuminae (The Illuminae Files, \\#1) &           eng &            4.32 &          44500 &               49187 &                    13008 &       0.264460 \\\\\n",
      "                             Angie Thomas &                     2017.0 &                            The Hate U Give &           eng &            4.62 &          32610 &               38333 &                     9038 &       0.235776 \\\\\n",
      "                         Stephanie Garber &                     2017.0 &                                    Caraval &           eng &            3.97 &          30975 &               35821 &                     8360 &       0.233383 \\\\\n",
      "                            Marissa Meyer &                     2016.0 &                                  Heartless &           eng &            4.06 &          33348 &               37000 &                     8605 &       0.232568 \\\\\n",
      "                         Sarah Pinborough &                     2017.0 &                            Behind Her Eyes &           eng &            3.77 &          17944 &               21613 &                     5003 &       0.231481 \\\\\n",
      "                       Julianne Donaldson &                     2012.0 &                Edenbrooke (Edenbrooke, \\#1) &           eng &            4.34 &          28536 &               30220 &                     6929 &       0.229285 \\\\\n",
      "                           Pam Muñoz Ryan &                     2015.0 &                                       Echo &           eng &            4.36 &          14864 &               15642 &                     3526 &       0.225419 \\\\\n",
      "                          Victoria Schwab &                     2016.0 &  This Savage Song (Monsters of Verity, \\#1) &           eng &            4.14 &          17210 &               22459 &                     5057 &       0.225166 \\\\\n",
      "\\bottomrule\n",
      "\\end{tabular}\n",
      "\n"
     ]
    }
   ],
   "source": [
    "books_df.sort_values(by='ratings_ratio', ascending=False).head(10)[reduced_cols]"
   ]
  },
  {
   "cell_type": "code",
   "execution_count": 161,
   "metadata": {},
   "outputs": [
    {
     "name": "stdout",
     "output_type": "stream",
     "text": [
      "\\begin{tabular}{lrllrrrrr}\n",
      "\\toprule\n",
      "                                           authors &  original\\_publication\\_year &                                              title & language\\_code &  average\\_rating &  ratings\\_count &  work\\_ratings\\_count &  work\\_text\\_reviews\\_count &  ratings\\_ratio \\\\\n",
      "\\midrule\n",
      "                                 Cynthia J. McGean &                     1997.0 &                                     Henry \\& Ramona &           NaN &            4.14 &          11106 &               11106 &                        3 &       0.000270 \\\\\n",
      "                  John D. Rateliff, J.R.R. Tolkien &                     2007.0 &   The History of the Hobbit, Part One: Mr. Baggins &           eng &            3.81 &         108399 &              108445 &                       46 &       0.000424 \\\\\n",
      "                                      Frank Miller &                     1991.0 &              Sin City: Una Dura Despedida, \\#1 de 3 &           NaN &            4.21 &           9115 &                9116 &                        4 &       0.000439 \\\\\n",
      "                                   Janet Evanovich &                     2002.0 &  Janet Evanovich Three and Four Two-Book Set (S... &           NaN &            4.34 &          63691 &               63694 &                       39 &       0.000612 \\\\\n",
      "                        Dean Koontz, Leigh Nichols &                     2000.0 &         Cold Fire / Hideaway / The Key to Midnight &           eng &            4.16 &          17581 &               17581 &                       11 &       0.000626 \\\\\n",
      "                                    Mark Cotta Vaz &                     2011.0 &  The Twilight Saga Breaking Dawn Part 1: The Of... &           eng &            4.30 &         188136 &              188274 &                      134 &       0.000712 \\\\\n",
      " Richard Lancelyn Green, Ronald Knox, Julian Sy... &                     1985.0 &  The Further Adventures of Sherlock Holmes: Aft... &           NaN &            4.40 &          36863 &               36872 &                       36 &       0.000976 \\\\\n",
      "                                            Amazon &                     2011.0 &                     Kindle Paperwhite User's Guide &           eng &            3.72 &          15002 &               36650 &                       38 &       0.001037 \\\\\n",
      "                                   John   Williams &                     2003.0 &  Harry Potter and the Chamber of Secrets: Sheet... &           NaN &            4.61 &          29409 &               29421 &                       31 &       0.001054 \\\\\n",
      "                                      Jenő Barcsay &                     1953.0 &                             Anatomy for the Artist &           NaN &            3.97 &          21640 &               21688 &                       24 &       0.001107 \\\\\n",
      "\\bottomrule\n",
      "\\end{tabular}\n",
      "\n"
     ]
    }
   ],
   "source": [
    "books_df.sort_values(by='ratings_ratio').head(10)[reduced_cols]"
   ]
  },
  {
   "cell_type": "markdown",
   "metadata": {},
   "source": [
    "## Ratings"
   ]
  },
  {
   "cell_type": "code",
   "execution_count": 162,
   "metadata": {},
   "outputs": [
    {
     "name": "stdout",
     "output_type": "stream",
     "text": [
      "\\begin{tabular}{rrr}\n",
      "\\toprule\n",
      " user\\_id &  book\\_id &  rating \\\\\n",
      "\\midrule\n",
      "       1 &      258 &       5 \\\\\n",
      "       2 &     4081 &       4 \\\\\n",
      "       2 &      260 &       5 \\\\\n",
      "       2 &     9296 &       5 \\\\\n",
      "       2 &     2318 &       3 \\\\\n",
      "\\bottomrule\n",
      "\\end{tabular}\n",
      "\n"
     ]
    }
   ],
   "source": [
    "ratings_df.head()"
   ]
  },
  {
   "cell_type": "code",
   "execution_count": 127,
   "metadata": {},
   "outputs": [
    {
     "name": "stdout",
     "output_type": "stream",
     "text": [
      "<class 'pandas.core.frame.DataFrame'>\n",
      "RangeIndex: 5976479 entries, 0 to 5976478\n",
      "Data columns (total 3 columns):\n",
      "user_id    uint16\n",
      "book_id    uint16\n",
      "rating     uint8\n",
      "dtypes: uint16(2), uint8(1)\n",
      "memory usage: 28.5 MB\n"
     ]
    }
   ],
   "source": [
    "ratings_df.info()"
   ]
  },
  {
   "cell_type": "code",
   "execution_count": 128,
   "metadata": {},
   "outputs": [
    {
     "name": "stdout",
     "output_type": "stream",
     "text": [
      "The number of users is: 53424\n",
      "The number of books is: 10000\n"
     ]
    }
   ],
   "source": [
    "# Check that the set of ids are equivalent to the integers from 1 to max id\n",
    "assert(len(ratings_df.user_id.unique()) == ratings_df.user_id.max())\n",
    "assert(len(ratings_df.book_id.unique()) == ratings_df.book_id.max())\n",
    "\n",
    "print('The number of users is: ' + str(len(ratings_df.user_id.unique())))\n",
    "print('The number of books is: ' + str(len(ratings_df.book_id.unique())))"
   ]
  },
  {
   "cell_type": "code",
   "execution_count": 129,
   "metadata": {},
   "outputs": [],
   "source": [
    "def plot_hist(series,\n",
    "              bins=None,\n",
    "              figsize=(12,8),\n",
    "              cm='RdYlGn',\n",
    "              density=True,\n",
    "              title=None):\n",
    "    \n",
    "    plt.figure(figsize=figsize)\n",
    "    plt.title(title)\n",
    "    cm = plt.cm.get_cmap(cm)\n",
    "\n",
    "    n, bins, patches = plt.hist(series, bins=bins, density=density)\n",
    "    bin_centers = 0.5 * (bins[:-1] + bins[1:])\n",
    "    \n",
    "    # scale values to interval [0,1]\n",
    "    col = bin_centers - min(bin_centers)\n",
    "    col /= max(col)\n",
    "    \n",
    "    # set colors\n",
    "    for c, p in zip(col, patches):\n",
    "        plt.setp(p, 'facecolor', cm(c))\n",
    "\n",
    "    plt.show()"
   ]
  },
  {
   "cell_type": "code",
   "execution_count": 130,
   "metadata": {
    "scrolled": false
   },
   "outputs": [
    {
     "data": {
      "image/png": "[encoded data removed]",
      "text/plain": [
       "<Figure size 864x576 with 1 Axes>"
      ]
     },
     "metadata": {},
     "output_type": "display_data"
    }
   ],
   "source": [
    "plot_hist(ratings_df['rating'],\n",
    "          bins=list(range(1,7)),\n",
    "          title='Distribution of User Ratings')"
   ]
  },
  {
   "cell_type": "markdown",
   "metadata": {},
   "source": [
    "### Ratings by Book"
   ]
  },
  {
   "cell_type": "markdown",
   "metadata": {},
   "source": [
    "The distribution of reviews per book in `ratings_df` is left skew. The range is 8–22806 though the interquartile range is 155–503."
   ]
  },
  {
   "cell_type": "code",
   "execution_count": 131,
   "metadata": {},
   "outputs": [
    {
     "data": {
      "text/plain": [
       "count    10000.000000\n",
       "mean       597.647900\n",
       "std       1267.289788\n",
       "min          8.000000\n",
       "25%        155.000000\n",
       "50%        248.000000\n",
       "75%        503.000000\n",
       "max      22806.000000\n",
       "Name: book_id, dtype: float64"
      ]
     },
     "execution_count": 131,
     "metadata": {},
     "output_type": "execute_result"
    }
   ],
   "source": [
    "ratings_by_book = ratings_df.groupby('book_id').book_id.count()\n",
    "ratings_by_book.describe()"
   ]
  },
  {
   "cell_type": "code",
   "execution_count": 150,
   "metadata": {},
   "outputs": [
    {
     "data": {
      "image/png": "[encoded data removed]",
      "text/plain": [
       "<Figure size 864x576 with 1 Axes>"
      ]
     },
     "metadata": {},
     "output_type": "display_data"
    }
   ],
   "source": [
    "plot_hist(ratings_by_book, \n",
    "          title='Distribution of Book Ratings')"
   ]
  },
  {
   "cell_type": "markdown",
   "metadata": {},
   "source": [
    "The tail is long; below we plot the distribution for books with fewer than 1000 ratingss."
   ]
  },
  {
   "cell_type": "code",
   "execution_count": 151,
   "metadata": {},
   "outputs": [
    {
     "data": {
      "image/png": "[encoded data removed]",
      "text/plain": [
       "<Figure size 864x576 with 1 Axes>"
      ]
     },
     "metadata": {},
     "output_type": "display_data"
    }
   ],
   "source": [
    "plot_hist(ratings_by_book[ratings_by_book <= 1000],\n",
    "          title='Distribution of Book Ratings for Books with Fewer than 1000 Ratings')"
   ]
  },
  {
   "cell_type": "markdown",
   "metadata": {},
   "source": [
    "### Ratings by User"
   ]
  },
  {
   "cell_type": "markdown",
   "metadata": {},
   "source": [
    "The range of reviews by user is 19–200."
   ]
  },
  {
   "cell_type": "code",
   "execution_count": 134,
   "metadata": {},
   "outputs": [
    {
     "data": {
      "text/plain": [
       "count    53424.000000\n",
       "mean       111.868804\n",
       "std         26.071224\n",
       "min         19.000000\n",
       "25%         96.000000\n",
       "50%        111.000000\n",
       "75%        128.000000\n",
       "max        200.000000\n",
       "Name: user_id, dtype: float64"
      ]
     },
     "execution_count": 134,
     "metadata": {},
     "output_type": "execute_result"
    }
   ],
   "source": [
    "ratings_by_user = ratings_df.groupby('user_id').user_id.count()\n",
    "ratings_by_user.describe()"
   ]
  },
  {
   "cell_type": "code",
   "execution_count": 153,
   "metadata": {},
   "outputs": [
    {
     "data": {
      "image/png": "[encoded data removed]",
      "text/plain": [
       "<Figure size 864x576 with 1 Axes>"
      ]
     },
     "metadata": {},
     "output_type": "display_data"
    }
   ],
   "source": [
    "plot_hist(ratings_by_user,\n",
    "          title='Distribution of Ratings by User')"
   ]
  },
  {
   "cell_type": "markdown",
   "metadata": {},
   "source": [
    "## Tags"
   ]
  },
  {
   "cell_type": "markdown",
   "metadata": {},
   "source": [
    "### To-Read\n",
    "This is the only tag we will consider in this version of the model. We can optionally let users decide against recommendations of books in this list. Most users tag at least one book to-read and almost all books are tagged to-read by some user."
   ]
  },
  {
   "cell_type": "code",
   "execution_count": 163,
   "metadata": {},
   "outputs": [
    {
     "name": "stdout",
     "output_type": "stream",
     "text": [
      "\\begin{tabular}{rr}\n",
      "\\toprule\n",
      " user\\_id &  book\\_id \\\\\n",
      "\\midrule\n",
      "       9 &        8 \\\\\n",
      "      15 &      398 \\\\\n",
      "      15 &      275 \\\\\n",
      "      37 &     7173 \\\\\n",
      "      34 &      380 \\\\\n",
      "\\bottomrule\n",
      "\\end{tabular}\n",
      "\n"
     ]
    }
   ],
   "source": [
    "to_read_df.head()"
   ]
  },
  {
   "cell_type": "code",
   "execution_count": 137,
   "metadata": {},
   "outputs": [
    {
     "name": "stdout",
     "output_type": "stream",
     "text": [
      "<class 'pandas.core.frame.DataFrame'>\n",
      "RangeIndex: 912705 entries, 0 to 912704\n",
      "Data columns (total 2 columns):\n",
      "user_id    912705 non-null int64\n",
      "book_id    912705 non-null int64\n",
      "dtypes: int64(2)\n",
      "memory usage: 13.9 MB\n"
     ]
    }
   ],
   "source": [
    "to_read_df.info()"
   ]
  },
  {
   "cell_type": "code",
   "execution_count": 138,
   "metadata": {},
   "outputs": [
    {
     "name": "stdout",
     "output_type": "stream",
     "text": [
      "Count of users who marked some book to-read: 48871\n",
      "Count of books marked to-read by some user: 9986\n"
     ]
    }
   ],
   "source": [
    "print('Count of users who marked some book to-read: '\n",
    "      + str(len(to_read_df.user_id.unique())))\n",
    "\n",
    "print('Count of books marked to-read by some user: '\n",
    "      + str(len(to_read_df.book_id.unique())))"
   ]
  },
  {
   "cell_type": "markdown",
   "metadata": {},
   "source": [
    "### Other Tags"
   ]
  },
  {
   "cell_type": "markdown",
   "metadata": {},
   "source": [
    "We can incorporate this implicit data in a future version. The following code and markdown are quoted directly from goodbooks-10k/quick_look.ipynb:"
   ]
  },
  {
   "cell_type": "code",
   "execution_count": 139,
   "metadata": {},
   "outputs": [
    {
     "data": {
      "text/html": [
       "<div>\n",
       "<style scoped>\n",
       "    .dataframe tbody tr th:only-of-type {\n",
       "        vertical-align: middle;\n",
       "    }\n",
       "\n",
       "    .dataframe tbody tr th {\n",
       "        vertical-align: top;\n",
       "    }\n",
       "\n",
       "    .dataframe thead th {\n",
       "        text-align: right;\n",
       "    }\n",
       "</style>\n",
       "<table border=\"1\" class=\"dataframe\">\n",
       "  <thead>\n",
       "    <tr style=\"text-align: right;\">\n",
       "      <th></th>\n",
       "      <th>tag_id</th>\n",
       "      <th>tag_name</th>\n",
       "    </tr>\n",
       "  </thead>\n",
       "  <tbody>\n",
       "    <tr>\n",
       "      <th>0</th>\n",
       "      <td>0</td>\n",
       "      <td>-</td>\n",
       "    </tr>\n",
       "    <tr>\n",
       "      <th>1</th>\n",
       "      <td>1</td>\n",
       "      <td>--1-</td>\n",
       "    </tr>\n",
       "    <tr>\n",
       "      <th>2</th>\n",
       "      <td>2</td>\n",
       "      <td>--10-</td>\n",
       "    </tr>\n",
       "    <tr>\n",
       "      <th>3</th>\n",
       "      <td>3</td>\n",
       "      <td>--12-</td>\n",
       "    </tr>\n",
       "    <tr>\n",
       "      <th>4</th>\n",
       "      <td>4</td>\n",
       "      <td>--122-</td>\n",
       "    </tr>\n",
       "  </tbody>\n",
       "</table>\n",
       "</div>"
      ],
      "text/plain": [
       "   tag_id tag_name\n",
       "0       0        -\n",
       "1       1     --1-\n",
       "2       2    --10-\n",
       "3       3    --12-\n",
       "4       4   --122-"
      ]
     },
     "execution_count": 139,
     "metadata": {},
     "output_type": "execute_result"
    }
   ],
   "source": [
    "tags_df.head()"
   ]
  },
  {
   "cell_type": "code",
   "execution_count": 140,
   "metadata": {},
   "outputs": [
    {
     "name": "stdout",
     "output_type": "stream",
     "text": [
      "<class 'pandas.core.frame.DataFrame'>\n",
      "RangeIndex: 34252 entries, 0 to 34251\n",
      "Data columns (total 2 columns):\n",
      "tag_id      34252 non-null int64\n",
      "tag_name    34252 non-null object\n",
      "dtypes: int64(1), object(1)\n",
      "memory usage: 535.3+ KB\n"
     ]
    }
   ],
   "source": [
    "tags_df.info()"
   ]
  },
  {
   "cell_type": "code",
   "execution_count": 141,
   "metadata": {},
   "outputs": [
    {
     "data": {
      "text/html": [
       "<div>\n",
       "<style scoped>\n",
       "    .dataframe tbody tr th:only-of-type {\n",
       "        vertical-align: middle;\n",
       "    }\n",
       "\n",
       "    .dataframe tbody tr th {\n",
       "        vertical-align: top;\n",
       "    }\n",
       "\n",
       "    .dataframe thead th {\n",
       "        text-align: right;\n",
       "    }\n",
       "</style>\n",
       "<table border=\"1\" class=\"dataframe\">\n",
       "  <thead>\n",
       "    <tr style=\"text-align: right;\">\n",
       "      <th></th>\n",
       "      <th>goodreads_book_id</th>\n",
       "      <th>tag_id</th>\n",
       "      <th>count</th>\n",
       "    </tr>\n",
       "  </thead>\n",
       "  <tbody>\n",
       "    <tr>\n",
       "      <th>0</th>\n",
       "      <td>1</td>\n",
       "      <td>30574</td>\n",
       "      <td>167697</td>\n",
       "    </tr>\n",
       "    <tr>\n",
       "      <th>1</th>\n",
       "      <td>1</td>\n",
       "      <td>11305</td>\n",
       "      <td>37174</td>\n",
       "    </tr>\n",
       "    <tr>\n",
       "      <th>2</th>\n",
       "      <td>1</td>\n",
       "      <td>11557</td>\n",
       "      <td>34173</td>\n",
       "    </tr>\n",
       "    <tr>\n",
       "      <th>3</th>\n",
       "      <td>1</td>\n",
       "      <td>8717</td>\n",
       "      <td>12986</td>\n",
       "    </tr>\n",
       "    <tr>\n",
       "      <th>4</th>\n",
       "      <td>1</td>\n",
       "      <td>33114</td>\n",
       "      <td>12716</td>\n",
       "    </tr>\n",
       "  </tbody>\n",
       "</table>\n",
       "</div>"
      ],
      "text/plain": [
       "   goodreads_book_id  tag_id   count\n",
       "0                  1   30574  167697\n",
       "1                  1   11305   37174\n",
       "2                  1   11557   34173\n",
       "3                  1    8717   12986\n",
       "4                  1   33114   12716"
      ]
     },
     "execution_count": 141,
     "metadata": {},
     "output_type": "execute_result"
    }
   ],
   "source": [
    "book_tags_df.head()"
   ]
  },
  {
   "cell_type": "code",
   "execution_count": 142,
   "metadata": {},
   "outputs": [
    {
     "name": "stdout",
     "output_type": "stream",
     "text": [
      "<class 'pandas.core.frame.DataFrame'>\n",
      "RangeIndex: 999912 entries, 0 to 999911\n",
      "Data columns (total 3 columns):\n",
      "goodreads_book_id    999912 non-null int64\n",
      "tag_id               999912 non-null int64\n",
      "count                999912 non-null int64\n",
      "dtypes: int64(3)\n",
      "memory usage: 22.9 MB\n"
     ]
    }
   ],
   "source": [
    "book_tags_df.info()"
   ]
  },
  {
   "cell_type": "markdown",
   "metadata": {},
   "source": [
    "Let us merge tag names into tag applications."
   ]
  },
  {
   "cell_type": "code",
   "execution_count": 143,
   "metadata": {},
   "outputs": [],
   "source": [
    "book_tags_df = book_tags_df.merge( tags_df, on = 'tag_id' )"
   ]
  },
  {
   "cell_type": "markdown",
   "metadata": {},
   "source": [
    "Why don't we merge book titles for good measure."
   ]
  },
  {
   "cell_type": "code",
   "execution_count": 144,
   "metadata": {},
   "outputs": [],
   "source": [
    "book_tags_df = book_tags_df.merge(\n",
    "    books_df[['goodreads_book_id', 'title']],\n",
    "    on='goodreads_book_id')"
   ]
  },
  {
   "cell_type": "markdown",
   "metadata": {},
   "source": [
    "It appears that there are some negative tag counts. Let's fix this."
   ]
  },
  {
   "cell_type": "code",
   "execution_count": 145,
   "metadata": {},
   "outputs": [
    {
     "data": {
      "text/plain": [
       "count    999912.000000\n",
       "mean        208.869633\n",
       "std        3501.265173\n",
       "min          -1.000000\n",
       "25%           7.000000\n",
       "50%          15.000000\n",
       "75%          40.000000\n",
       "max      596234.000000\n",
       "Name: count, dtype: float64"
      ]
     },
     "execution_count": 145,
     "metadata": {},
     "output_type": "execute_result"
    }
   ],
   "source": [
    "book_tags_df['count'].describe()"
   ]
  },
  {
   "cell_type": "code",
   "execution_count": 146,
   "metadata": {},
   "outputs": [
    {
     "data": {
      "text/html": [
       "<div>\n",
       "<style scoped>\n",
       "    .dataframe tbody tr th:only-of-type {\n",
       "        vertical-align: middle;\n",
       "    }\n",
       "\n",
       "    .dataframe tbody tr th {\n",
       "        vertical-align: top;\n",
       "    }\n",
       "\n",
       "    .dataframe thead th {\n",
       "        text-align: right;\n",
       "    }\n",
       "</style>\n",
       "<table border=\"1\" class=\"dataframe\">\n",
       "  <thead>\n",
       "    <tr style=\"text-align: right;\">\n",
       "      <th></th>\n",
       "      <th>goodreads_book_id</th>\n",
       "      <th>tag_id</th>\n",
       "      <th>count</th>\n",
       "      <th>tag_name</th>\n",
       "      <th>title</th>\n",
       "    </tr>\n",
       "  </thead>\n",
       "  <tbody>\n",
       "    <tr>\n",
       "      <th>920799</th>\n",
       "      <td>18607805</td>\n",
       "      <td>10197</td>\n",
       "      <td>-1</td>\n",
       "      <td>ebook</td>\n",
       "      <td>Kindle Paperwhite User's Guide</td>\n",
       "    </tr>\n",
       "    <tr>\n",
       "      <th>920815</th>\n",
       "      <td>18607805</td>\n",
       "      <td>17246</td>\n",
       "      <td>-1</td>\n",
       "      <td>kindle-library</td>\n",
       "      <td>Kindle Paperwhite User's Guide</td>\n",
       "    </tr>\n",
       "    <tr>\n",
       "      <th>920823</th>\n",
       "      <td>18607805</td>\n",
       "      <td>21619</td>\n",
       "      <td>-1</td>\n",
       "      <td>no-audio</td>\n",
       "      <td>Kindle Paperwhite User's Guide</td>\n",
       "    </tr>\n",
       "    <tr>\n",
       "      <th>920854</th>\n",
       "      <td>18607805</td>\n",
       "      <td>6552</td>\n",
       "      <td>-1</td>\n",
       "      <td>challenge-2013</td>\n",
       "      <td>Kindle Paperwhite User's Guide</td>\n",
       "    </tr>\n",
       "    <tr>\n",
       "      <th>920855</th>\n",
       "      <td>18607805</td>\n",
       "      <td>2272</td>\n",
       "      <td>-1</td>\n",
       "      <td>america-in-retreat</td>\n",
       "      <td>Kindle Paperwhite User's Guide</td>\n",
       "    </tr>\n",
       "    <tr>\n",
       "      <th>958159</th>\n",
       "      <td>22931009</td>\n",
       "      <td>9221</td>\n",
       "      <td>-1</td>\n",
       "      <td>default</td>\n",
       "      <td>Kindle User's Guide</td>\n",
       "    </tr>\n",
       "  </tbody>\n",
       "</table>\n",
       "</div>"
      ],
      "text/plain": [
       "        goodreads_book_id  tag_id  count            tag_name  \\\n",
       "920799           18607805   10197     -1               ebook   \n",
       "920815           18607805   17246     -1      kindle-library   \n",
       "920823           18607805   21619     -1            no-audio   \n",
       "920854           18607805    6552     -1      challenge-2013   \n",
       "920855           18607805    2272     -1  america-in-retreat   \n",
       "958159           22931009    9221     -1             default   \n",
       "\n",
       "                                 title  \n",
       "920799  Kindle Paperwhite User's Guide  \n",
       "920815  Kindle Paperwhite User's Guide  \n",
       "920823  Kindle Paperwhite User's Guide  \n",
       "920854  Kindle Paperwhite User's Guide  \n",
       "920855  Kindle Paperwhite User's Guide  \n",
       "958159             Kindle User's Guide  "
      ]
     },
     "execution_count": 146,
     "metadata": {},
     "output_type": "execute_result"
    }
   ],
   "source": [
    "book_tags_df[book_tags_df['count'] < 0]"
   ]
  },
  {
   "cell_type": "code",
   "execution_count": 147,
   "metadata": {},
   "outputs": [],
   "source": [
    "book_tags_df = book_tags_df[~(book_tags_df['count'] < 0)]"
   ]
  },
  {
   "cell_type": "markdown",
   "metadata": {},
   "source": [
    "Sample some popular book tags."
   ]
  },
  {
   "cell_type": "code",
   "execution_count": 148,
   "metadata": {},
   "outputs": [
    {
     "data": {
      "text/html": [
       "<div>\n",
       "<style scoped>\n",
       "    .dataframe tbody tr th:only-of-type {\n",
       "        vertical-align: middle;\n",
       "    }\n",
       "\n",
       "    .dataframe tbody tr th {\n",
       "        vertical-align: top;\n",
       "    }\n",
       "\n",
       "    .dataframe thead th {\n",
       "        text-align: right;\n",
       "    }\n",
       "</style>\n",
       "<table border=\"1\" class=\"dataframe\">\n",
       "  <thead>\n",
       "    <tr style=\"text-align: right;\">\n",
       "      <th></th>\n",
       "      <th>goodreads_book_id</th>\n",
       "      <th>tag_id</th>\n",
       "      <th>count</th>\n",
       "      <th>tag_name</th>\n",
       "      <th>title</th>\n",
       "    </tr>\n",
       "  </thead>\n",
       "  <tbody>\n",
       "    <tr>\n",
       "      <th>135900</th>\n",
       "      <td>16902</td>\n",
       "      <td>30574</td>\n",
       "      <td>107353</td>\n",
       "      <td>to-read</td>\n",
       "      <td>Walden</td>\n",
       "    </tr>\n",
       "    <tr>\n",
       "      <th>19500</th>\n",
       "      <td>2612</td>\n",
       "      <td>30574</td>\n",
       "      <td>320295</td>\n",
       "      <td>to-read</td>\n",
       "      <td>The Tipping Point: How Little Things Can Make ...</td>\n",
       "    </tr>\n",
       "    <tr>\n",
       "      <th>903019</th>\n",
       "      <td>17927395</td>\n",
       "      <td>33012</td>\n",
       "      <td>65</td>\n",
       "      <td>ya-fiction</td>\n",
       "      <td>A Court of Mist and Fury (A Court of Thorns an...</td>\n",
       "    </tr>\n",
       "    <tr>\n",
       "      <th>613994</th>\n",
       "      <td>2429135</td>\n",
       "      <td>30574</td>\n",
       "      <td>586235</td>\n",
       "      <td>to-read</td>\n",
       "      <td>The Girl with the Dragon Tattoo (Millennium, #1)</td>\n",
       "    </tr>\n",
       "    <tr>\n",
       "      <th>159000</th>\n",
       "      <td>22328</td>\n",
       "      <td>30574</td>\n",
       "      <td>23015</td>\n",
       "      <td>to-read</td>\n",
       "      <td>Neuromancer</td>\n",
       "    </tr>\n",
       "    <tr>\n",
       "      <th>169700</th>\n",
       "      <td>24784</td>\n",
       "      <td>30574</td>\n",
       "      <td>13277</td>\n",
       "      <td>to-read</td>\n",
       "      <td>The Black Cauldron (The Chronicles of Prydain #2)</td>\n",
       "    </tr>\n",
       "    <tr>\n",
       "      <th>84900</th>\n",
       "      <td>10572</td>\n",
       "      <td>30574</td>\n",
       "      <td>125170</td>\n",
       "      <td>to-read</td>\n",
       "      <td>A Clash of Kings  (A Song of Ice and Fire, #2)</td>\n",
       "    </tr>\n",
       "    <tr>\n",
       "      <th>587694</th>\n",
       "      <td>1297985</td>\n",
       "      <td>30574</td>\n",
       "      <td>55145</td>\n",
       "      <td>to-read</td>\n",
       "      <td>Musicophilia: Tales of Music and the Brain</td>\n",
       "    </tr>\n",
       "    <tr>\n",
       "      <th>469294</th>\n",
       "      <td>294047</td>\n",
       "      <td>30574</td>\n",
       "      <td>9696</td>\n",
       "      <td>to-read</td>\n",
       "      <td>Amazonia</td>\n",
       "    </tr>\n",
       "    <tr>\n",
       "      <th>670894</th>\n",
       "      <td>6411961</td>\n",
       "      <td>30574</td>\n",
       "      <td>98533</td>\n",
       "      <td>to-read</td>\n",
       "      <td>The Lost Symbol (Robert Langdon, #3)</td>\n",
       "    </tr>\n",
       "  </tbody>\n",
       "</table>\n",
       "</div>"
      ],
      "text/plain": [
       "        goodreads_book_id  tag_id   count    tag_name  \\\n",
       "135900              16902   30574  107353     to-read   \n",
       "19500                2612   30574  320295     to-read   \n",
       "903019           17927395   33012      65  ya-fiction   \n",
       "613994            2429135   30574  586235     to-read   \n",
       "159000              22328   30574   23015     to-read   \n",
       "169700              24784   30574   13277     to-read   \n",
       "84900               10572   30574  125170     to-read   \n",
       "587694            1297985   30574   55145     to-read   \n",
       "469294             294047   30574    9696     to-read   \n",
       "670894            6411961   30574   98533     to-read   \n",
       "\n",
       "                                                    title  \n",
       "135900                                             Walden  \n",
       "19500   The Tipping Point: How Little Things Can Make ...  \n",
       "903019  A Court of Mist and Fury (A Court of Thorns an...  \n",
       "613994   The Girl with the Dragon Tattoo (Millennium, #1)  \n",
       "159000                                        Neuromancer  \n",
       "169700  The Black Cauldron (The Chronicles of Prydain #2)  \n",
       "84900      A Clash of Kings  (A Song of Ice and Fire, #2)  \n",
       "587694         Musicophilia: Tales of Music and the Brain  \n",
       "469294                                           Amazonia  \n",
       "670894               The Lost Symbol (Robert Langdon, #3)  "
      ]
     },
     "execution_count": 148,
     "metadata": {},
     "output_type": "execute_result"
    }
   ],
   "source": [
    "book_tags_df.sample(10, weights = 'count')"
   ]
  },
  {
   "cell_type": "markdown",
   "metadata": {},
   "source": [
    "These are the most popular tags:"
   ]
  },
  {
   "cell_type": "code",
   "execution_count": 149,
   "metadata": {},
   "outputs": [
    {
     "data": {
      "text/plain": [
       "tag_name\n",
       "to-read              9983\n",
       "favorites            9881\n",
       "owned                9858\n",
       "books-i-own          9799\n",
       "currently-reading    9776\n",
       "library              9415\n",
       "owned-books          9221\n",
       "fiction              9097\n",
       "to-buy               8692\n",
       "kindle               8316\n",
       "default              8238\n",
       "ebook                8053\n",
       "my-books             7561\n",
       "audiobook            7242\n",
       "ebooks               7203\n",
       "wish-list            7192\n",
       "my-library           7000\n",
       "audiobooks           6862\n",
       "i-own                6670\n",
       "adult                6604\n",
       "Name: tag_name, dtype: int64"
      ]
     },
     "execution_count": 149,
     "metadata": {},
     "output_type": "execute_result"
    }
   ],
   "source": [
    "tag_counts = book_tags_df.groupby( 'tag_name' ).tag_name.count().sort_values( ascending = False )\n",
    "tag_counts.head( 20 )"
   ]
  },
  {
   "cell_type": "code",
   "execution_count": null,
   "metadata": {},
   "outputs": [],
   "source": []
  }
 ],
 "metadata": {
  "kernelspec": {
   "display_name": "Python 3",
   "language": "python",
   "name": "python3"
  },
  "language_info": {
   "codemirror_mode": {
    "name": "ipython",
    "version": 3
   },
   "file_extension": ".py",
   "mimetype": "text/x-python",
   "name": "python",
   "nbconvert_exporter": "python",
   "pygments_lexer": "ipython3",
   "version": "3.7.3"
  },
  "latex_envs": {
   "LaTeX_envs_menu_present": true,
   "autoclose": false,
   "autocomplete": false,
   "bibliofile": "biblio.bib",
   "cite_by": "apalike",
   "current_citInitial": 1,
   "eqLabelWithNumbers": false,
   "eqNumInitial": 1,
   "hotkeys": {
    "equation": "ctrl-meta-e"
   },
   "labels_anchors": false,
   "latex_user_defs": false,
   "report_style_numbering": false,
   "user_envs_cfg": false
  },
  "toc": {
   "base_numbering": 1,
   "nav_menu": {
    "height": "212px",
    "width": "274px"
   },
   "number_sections": true,
   "sideBar": true,
   "skip_h1_title": false,
   "title_cell": "Table of Contents",
   "title_sidebar": "Contents",
   "toc_cell": false,
   "toc_position": {},
   "toc_section_display": true,
   "toc_window_display": true
  }
 },
 "nbformat": 4,
 "nbformat_minor": 1
}
