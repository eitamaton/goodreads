{
 "cells": [
  {
   "cell_type": "code",
   "execution_count": 1,
   "metadata": {},
   "outputs": [],
   "source": [
    "%matplotlib inline\n",
    "\n",
    "import pandas as pd\n",
    "import numpy as np\n",
    "\n",
    "# raw_data_path = '../input/goodreads10kcsv/'\n",
    "# model_ouput_path = '../input/goodreads-models/'\n",
    "\n",
    "raw_data_path = './data/raw/goodbooks-10k/'\n",
    "model_ouput_path = './data/models/'\n",
    "\n",
    "ratings_df = pd.read_csv(raw_data_path + 'ratings.csv' , dtype={'rating': np.uint8,\n",
    "                                                       'user_id': np.uint16,\n",
    "                                                       'book_id': np.uint16})"
   ]
  },
  {
   "cell_type": "markdown",
   "metadata": {
    "collapsed": true
   },
   "source": [
    "# Hyperparameter Search"
   ]
  },
  {
   "cell_type": "code",
   "execution_count": 2,
   "metadata": {},
   "outputs": [],
   "source": [
    "from scipy.sparse import csr_matrix"
   ]
  },
  {
   "cell_type": "code",
   "execution_count": 3,
   "metadata": {},
   "outputs": [],
   "source": [
    "ratings_matrix = csr_matrix((ratings_df.rating.values,(ratings_df.user_id.values-1, ratings_df.book_id.values-1)))"
   ]
  },
  {
   "cell_type": "code",
   "execution_count": 4,
   "metadata": {},
   "outputs": [],
   "source": [
    "import matplotlib.pyplot as plt"
   ]
  },
  {
   "cell_type": "code",
   "execution_count": 5,
   "metadata": {},
   "outputs": [],
   "source": [
    "from sklearn.decomposition import NMF\n",
    "from datetime import datetime"
   ]
  },
  {
   "cell_type": "markdown",
   "metadata": {},
   "source": [
    "Let's check the RMSE of the unregularized model."
   ]
  },
  {
   "cell_type": "code",
   "execution_count": 6,
   "metadata": {},
   "outputs": [],
   "source": [
    "n_components = 50"
   ]
  },
  {
   "cell_type": "code",
   "execution_count": 7,
   "metadata": {},
   "outputs": [],
   "source": [
    "model = NMF(n_components=n_components\n",
    "#            verbose=1\n",
    "           )"
   ]
  },
  {
   "cell_type": "code",
   "execution_count": 8,
   "metadata": {},
   "outputs": [
    {
     "name": "stdout",
     "output_type": "stream",
     "text": [
      "The RMSE for the unregularized model is: 8545.79\n"
     ]
    }
   ],
   "source": [
    "W = model.fit_transform(ratings_matrix)\n",
    "H = model.components_\n",
    "print('The RMSE for the unregularized model is: %.2f' % model.reconstruction_err_)"
   ]
  },
  {
   "cell_type": "code",
   "execution_count": 9,
   "metadata": {},
   "outputs": [],
   "source": [
    "from sklearn.model_selection import ParameterGrid"
   ]
  },
  {
   "cell_type": "code",
   "execution_count": 10,
   "metadata": {},
   "outputs": [],
   "source": [
    "model = NMF(n_components=n_components\n",
    "#            verbose=1\n",
    "           )"
   ]
  },
  {
   "cell_type": "code",
   "execution_count": 11,
   "metadata": {},
   "outputs": [],
   "source": [
    "# current grid\n",
    "param1 = 'alpha'\n",
    "param2 = 'l1_ratio'\n",
    "\n",
    "param_grid = {\n",
    "    param1: list(np.round(np.geomspace(1e1, 1e3, 5), 3)),\n",
    "    param2: list(np.round(np.linspace(0.1, 0.9, 5), 8))\n",
    "}"
   ]
  },
  {
   "cell_type": "code",
   "execution_count": 12,
   "metadata": {},
   "outputs": [
    {
     "name": "stdout",
     "output_type": "stream",
     "text": [
      "2019-07-21 06:26:04.000665\n",
      "{'alpha': 10.0, 'l1_ratio': 0.1}\n",
      "2019-07-21 06:27:54.502060\n",
      "{'alpha': 10.0, 'l1_ratio': 0.3}\n",
      "2019-07-21 06:29:59.076912\n",
      "{'alpha': 10.0, 'l1_ratio': 0.5}\n",
      "2019-07-21 06:32:19.264789\n",
      "{'alpha': 10.0, 'l1_ratio': 0.7}\n",
      "2019-07-21 06:34:19.224569\n",
      "{'alpha': 10.0, 'l1_ratio': 0.9}\n",
      "2019-07-21 06:36:57.191909\n",
      "{'alpha': 31.623, 'l1_ratio': 0.1}\n",
      "2019-07-21 06:39:47.423745\n",
      "{'alpha': 31.623, 'l1_ratio': 0.3}\n",
      "2019-07-21 06:41:38.111715\n",
      "{'alpha': 31.623, 'l1_ratio': 0.5}\n",
      "2019-07-21 06:44:32.086422\n",
      "{'alpha': 31.623, 'l1_ratio': 0.7}\n",
      "2019-07-21 06:46:11.263458\n",
      "{'alpha': 31.623, 'l1_ratio': 0.9}\n",
      "2019-07-21 06:47:55.844839\n",
      "{'alpha': 100.0, 'l1_ratio': 0.1}\n",
      "2019-07-21 06:50:29.914199\n",
      "{'alpha': 100.0, 'l1_ratio': 0.3}\n",
      "2019-07-21 06:51:55.813174\n",
      "{'alpha': 100.0, 'l1_ratio': 0.5}\n",
      "2019-07-21 06:53:03.758155\n",
      "{'alpha': 100.0, 'l1_ratio': 0.7}\n",
      "2019-07-21 06:54:36.658804\n",
      "{'alpha': 100.0, 'l1_ratio': 0.9}\n",
      "2019-07-21 06:56:03.559119\n",
      "{'alpha': 316.228, 'l1_ratio': 0.1}\n",
      "2019-07-21 06:57:42.752215\n",
      "{'alpha': 316.228, 'l1_ratio': 0.3}\n",
      "2019-07-21 06:58:19.609331\n",
      "{'alpha': 316.228, 'l1_ratio': 0.5}\n",
      "2019-07-21 06:59:05.797874\n",
      "{'alpha': 316.228, 'l1_ratio': 0.7}\n",
      "2019-07-21 07:00:00.883167\n",
      "{'alpha': 316.228, 'l1_ratio': 0.9}\n",
      "2019-07-21 07:00:23.193597\n",
      "{'alpha': 1000.0, 'l1_ratio': 0.1}\n",
      "2019-07-21 07:00:38.314432\n",
      "{'alpha': 1000.0, 'l1_ratio': 0.3}\n",
      "2019-07-21 07:00:51.840160\n",
      "{'alpha': 1000.0, 'l1_ratio': 0.5}\n",
      "2019-07-21 07:01:05.591215\n",
      "{'alpha': 1000.0, 'l1_ratio': 0.7}\n",
      "2019-07-21 07:01:19.224410\n",
      "{'alpha': 1000.0, 'l1_ratio': 0.9}\n",
      "2019-07-21 07:01:31.967065\n"
     ]
    }
   ],
   "source": [
    "rows = []\n",
    "cols = []\n",
    "errors = []\n",
    "density = []\n",
    "\n",
    "for params in ParameterGrid(param_grid):\n",
    "    print(datetime.now())\n",
    "    print(params)\n",
    "    model.set_params(**params)\n",
    "    W = model.fit_transform(ratings_matrix)\n",
    "    H = model.components_\n",
    "    rows.append(params[param1])\n",
    "    cols.append(params[param2])\n",
    "    errors.append(model.reconstruction_err_)\n",
    "    A = model.inverse_transform(W)\n",
    "    A_density = np.count_nonzero(A) / (A.shape[0] * A.shape[1])\n",
    "    density.append(A_density)\n",
    "    \n",
    "print(datetime.now())"
   ]
  },
  {
   "cell_type": "code",
   "execution_count": 13,
   "metadata": {},
   "outputs": [],
   "source": [
    "names = ['errors', 'density']"
   ]
  },
  {
   "cell_type": "code",
   "execution_count": 14,
   "metadata": {},
   "outputs": [],
   "source": [
    "scores = [errors, density]"
   ]
  },
  {
   "cell_type": "code",
   "execution_count": 15,
   "metadata": {},
   "outputs": [],
   "source": [
    "scores = np.array(scores).T#.reshape((len(metrics_dict.keys()),\n",
    "                          #         len(decisions))).T"
   ]
  },
  {
   "cell_type": "code",
   "execution_count": 16,
   "metadata": {},
   "outputs": [],
   "source": [
    "scores_df = pd.concat([pd.DataFrame(data=np.array([rows, cols]).T,\n",
    "             columns=[param1, param2]), \n",
    "    pd.DataFrame(data=scores,\n",
    "             columns=names)],\n",
    "            axis=1).melt(id_vars=[param1, param2])\n",
    "\n",
    "scores_df.rename(columns={'variable': 'score'}, inplace=True)"
   ]
  },
  {
   "cell_type": "code",
   "execution_count": 17,
   "metadata": {},
   "outputs": [
    {
     "data": {
      "image/png": "[encoded data removed]",
      "text/plain": [
       "<Figure size 864x432 with 4 Axes>"
      ]
     },
     "metadata": {
      "needs_background": "light"
     },
     "output_type": "display_data"
    }
   ],
   "source": [
    "import seaborn as sns\n",
    "\n",
    "def draw_heatmap(index, columns, values, **kwargs):\n",
    "    data = kwargs.pop('data')\n",
    "    d = data.pivot(index=index,\n",
    "                   columns=columns,\n",
    "                   values=values)\n",
    "    sns.heatmap(d, **kwargs)\n",
    "\n",
    "fg = sns.FacetGrid(scores_df,\n",
    "                   col='score',\n",
    "                   col_wrap=2,\n",
    "                   height=6)\n",
    "\n",
    "fg.map_dataframe(draw_heatmap,\n",
    "                 index=param1, \n",
    "                 columns=param2,\n",
    "                 values='value',\n",
    "                 square=True,\n",
    "                 annot=True,\n",
    "                 fmt='.4f',\n",
    "                 cmap='plasma_r'              \n",
    "#                 cbar_kws={\"orientation\": \"horizontal\"}\n",
    "                 )\n",
    "\n",
    "fg.set_axis_labels(param2, param1)\n",
    "\n",
    "plt.savefig('hyperparameter-search' + str(n_components) + '.png')"
   ]
  },
  {
   "cell_type": "code",
   "execution_count": null,
   "metadata": {},
   "outputs": [],
   "source": []
  },
  {
   "cell_type": "code",
   "execution_count": null,
   "metadata": {},
   "outputs": [],
   "source": []
  }
 ],
 "metadata": {
  "kernelspec": {
   "display_name": "Python 3",
   "language": "python",
   "name": "python3"
  },
  "language_info": {
   "codemirror_mode": {
    "name": "ipython",
    "version": 3
   },
   "file_extension": ".py",
   "mimetype": "text/x-python",
   "name": "python",
   "nbconvert_exporter": "python",
   "pygments_lexer": "ipython3",
   "version": "3.7.3"
  },
  "latex_envs": {
   "LaTeX_envs_menu_present": true,
   "autoclose": false,
   "autocomplete": false,
   "bibliofile": "biblio.bib",
   "cite_by": "apalike",
   "current_citInitial": 1,
   "eqLabelWithNumbers": false,
   "eqNumInitial": 1,
   "hotkeys": {
    "equation": "ctrl-meta-e"
   },
   "labels_anchors": false,
   "latex_user_defs": false,
   "report_style_numbering": false,
   "user_envs_cfg": false
  },
  "toc": {
   "base_numbering": 1,
   "nav_menu": {},
   "number_sections": true,
   "sideBar": true,
   "skip_h1_title": false,
   "title_cell": "Table of Contents",
   "title_sidebar": "Contents",
   "toc_cell": false,
   "toc_position": {},
   "toc_section_display": true,
   "toc_window_display": true
  }
 },
 "nbformat": 4,
 "nbformat_minor": 1
}
